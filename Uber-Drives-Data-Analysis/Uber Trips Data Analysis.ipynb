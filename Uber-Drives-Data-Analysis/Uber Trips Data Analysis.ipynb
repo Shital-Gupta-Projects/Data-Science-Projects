{
 "cells": [
  {
   "cell_type": "markdown",
   "metadata": {
    "id": "98yskoA9197_"
   },
   "source": [
    "#### Instructions:\n",
    "\n",
    "For all questions after 10th, Please only use the data specified in the note given just below the question\n",
    "You need to add answers in the same file i.e. PDS_UberDriveProject_Questions.ipynb' and rename that file as 'Name_Date.ipynb'.You can mention the date on which you will be uploading/submitting the file.For e.g. if you plan to submit your assignment on 1st January 2021, you can rename the file as 'STUDENTNAME_01-Jan-2021'"
   ]
  },
  {
   "cell_type": "markdown",
   "metadata": {
    "id": "WiVXvuYj198C"
   },
   "source": [
    "# Load the necessary libraries. Import and load the dataset with a name uber_drives ."
   ]
  },
  {
   "cell_type": "code",
   "execution_count": 1,
   "metadata": {},
   "outputs": [],
   "source": [
    "#------------------------------------------------------------------------------------------------------------------------------#\n",
    "#                                         INDIVIDUAL ASSIGNMENT - PYTHON                                                       #\n",
    "#                                         SUBMITTED BY :- SHITAL GUPTA                                                         #\n",
    "#                                         PGP-DSBA SEPTEMBER 2019 BATCH                                                        #\n",
    "#------------------------------------------------------------------------------------------------------------------------------#"
   ]
  },
  {
   "cell_type": "code",
   "execution_count": 2,
   "metadata": {},
   "outputs": [],
   "source": [
    "#------------------------------------------------------------------------------------------------------------------------------#\n",
    "#                                              START OF THE ANALYSIS                                                           #\n",
    "#------------------------------------------------------------------------------------------------------------------------------#\n",
    "#                                                START OF THE CODE                                                             #\n",
    "#------------------------------------------------------------------------------------------------------------------------------#"
   ]
  },
  {
   "cell_type": "code",
   "execution_count": 3,
   "metadata": {
    "id": "1t_S2Qw_198D"
   },
   "outputs": [],
   "source": [
    "#IMPORTING THE NECESSARY LIBRARIES FOR THE PROJECT#\n",
    "import pandas as pd\n",
    "import numpy as np\n",
    "import matplotlib.pyplot as plt\n",
    "import seaborn as sns\n",
    "sns.set_palette(\"deep\")\n",
    "from IPython.core.interactiveshell import InteractiveShell\n",
    "InteractiveShell.ast_node_interactivity = \"all\""
   ]
  },
  {
   "cell_type": "code",
   "execution_count": 4,
   "metadata": {
    "id": "rOMfio427XfR"
   },
   "outputs": [],
   "source": [
    "#IMPORTING AND LOADING THE DATASET IN A DATAFRAME BY THE NAME UBERDRIVEDATA#\n",
    "UberDriveData = pd.read_csv(\"D:/uberdrives.csv\")\n",
    "#Location of the file has to be changed per the data file location on the system that is running the python program\n",
    "#Not Using uber_drives,taking liberty on data frame name for better representation"
   ]
  },
  {
   "cell_type": "markdown",
   "metadata": {
    "id": "DZktgL3E198I"
   },
   "source": [
    "## Q1. Show the last 10 records of the dataset. (2 point)"
   ]
  },
  {
   "cell_type": "code",
   "execution_count": 5,
   "metadata": {
    "colab": {
     "base_uri": "https://localhost:8080/",
     "height": 359
    },
    "id": "pk7z2uii198I",
    "outputId": "d08542a6-facc-4407-c359-c396ae9859a4"
   },
   "outputs": [
    {
     "data": {
      "text/html": [
       "<div>\n",
       "<style scoped>\n",
       "    .dataframe tbody tr th:only-of-type {\n",
       "        vertical-align: middle;\n",
       "    }\n",
       "\n",
       "    .dataframe tbody tr th {\n",
       "        vertical-align: top;\n",
       "    }\n",
       "\n",
       "    .dataframe thead th {\n",
       "        text-align: right;\n",
       "    }\n",
       "</style>\n",
       "<table border=\"1\" class=\"dataframe\">\n",
       "  <thead>\n",
       "    <tr style=\"text-align: right;\">\n",
       "      <th></th>\n",
       "      <th>START_DATE*</th>\n",
       "      <th>END_DATE*</th>\n",
       "      <th>CATEGORY*</th>\n",
       "      <th>START*</th>\n",
       "      <th>STOP*</th>\n",
       "      <th>MILES*</th>\n",
       "      <th>PURPOSE*</th>\n",
       "    </tr>\n",
       "  </thead>\n",
       "  <tbody>\n",
       "    <tr>\n",
       "      <th>1145</th>\n",
       "      <td>12/30/2016 10:15</td>\n",
       "      <td>12/30/2016 10:33</td>\n",
       "      <td>Business</td>\n",
       "      <td>Karachi</td>\n",
       "      <td>Karachi</td>\n",
       "      <td>2.8</td>\n",
       "      <td>Errand/Supplies</td>\n",
       "    </tr>\n",
       "    <tr>\n",
       "      <th>1146</th>\n",
       "      <td>12/30/2016 11:31</td>\n",
       "      <td>12/30/2016 11:56</td>\n",
       "      <td>Business</td>\n",
       "      <td>Karachi</td>\n",
       "      <td>Karachi</td>\n",
       "      <td>2.9</td>\n",
       "      <td>Errand/Supplies</td>\n",
       "    </tr>\n",
       "    <tr>\n",
       "      <th>1147</th>\n",
       "      <td>12/30/2016 15:41</td>\n",
       "      <td>12/30/2016 16:03</td>\n",
       "      <td>Business</td>\n",
       "      <td>Karachi</td>\n",
       "      <td>Karachi</td>\n",
       "      <td>4.6</td>\n",
       "      <td>Errand/Supplies</td>\n",
       "    </tr>\n",
       "    <tr>\n",
       "      <th>1148</th>\n",
       "      <td>12/30/2016 16:45</td>\n",
       "      <td>12/30/2016 17:08</td>\n",
       "      <td>Business</td>\n",
       "      <td>Karachi</td>\n",
       "      <td>Karachi</td>\n",
       "      <td>4.6</td>\n",
       "      <td>Meeting</td>\n",
       "    </tr>\n",
       "    <tr>\n",
       "      <th>1149</th>\n",
       "      <td>12/30/2016 23:06</td>\n",
       "      <td>12/30/2016 23:10</td>\n",
       "      <td>Business</td>\n",
       "      <td>Karachi</td>\n",
       "      <td>Karachi</td>\n",
       "      <td>0.8</td>\n",
       "      <td>Customer Visit</td>\n",
       "    </tr>\n",
       "    <tr>\n",
       "      <th>1150</th>\n",
       "      <td>12/31/2016 1:07</td>\n",
       "      <td>12/31/2016 1:14</td>\n",
       "      <td>Business</td>\n",
       "      <td>Karachi</td>\n",
       "      <td>Karachi</td>\n",
       "      <td>0.7</td>\n",
       "      <td>Meeting</td>\n",
       "    </tr>\n",
       "    <tr>\n",
       "      <th>1151</th>\n",
       "      <td>12/31/2016 13:24</td>\n",
       "      <td>12/31/2016 13:42</td>\n",
       "      <td>Business</td>\n",
       "      <td>Karachi</td>\n",
       "      <td>Unknown Location</td>\n",
       "      <td>3.9</td>\n",
       "      <td>Temporary Site</td>\n",
       "    </tr>\n",
       "    <tr>\n",
       "      <th>1152</th>\n",
       "      <td>12/31/2016 15:03</td>\n",
       "      <td>12/31/2016 15:38</td>\n",
       "      <td>Business</td>\n",
       "      <td>Unknown Location</td>\n",
       "      <td>Unknown Location</td>\n",
       "      <td>16.2</td>\n",
       "      <td>Meeting</td>\n",
       "    </tr>\n",
       "    <tr>\n",
       "      <th>1153</th>\n",
       "      <td>12/31/2016 21:32</td>\n",
       "      <td>12/31/2016 21:50</td>\n",
       "      <td>Business</td>\n",
       "      <td>Katunayake</td>\n",
       "      <td>Gampaha</td>\n",
       "      <td>6.4</td>\n",
       "      <td>Temporary Site</td>\n",
       "    </tr>\n",
       "    <tr>\n",
       "      <th>1154</th>\n",
       "      <td>12/31/2016 22:08</td>\n",
       "      <td>12/31/2016 23:51</td>\n",
       "      <td>Business</td>\n",
       "      <td>Gampaha</td>\n",
       "      <td>Ilukwatta</td>\n",
       "      <td>48.2</td>\n",
       "      <td>Temporary Site</td>\n",
       "    </tr>\n",
       "  </tbody>\n",
       "</table>\n",
       "</div>"
      ],
      "text/plain": [
       "           START_DATE*         END_DATE* CATEGORY*            START*  \\\n",
       "1145  12/30/2016 10:15  12/30/2016 10:33  Business           Karachi   \n",
       "1146  12/30/2016 11:31  12/30/2016 11:56  Business           Karachi   \n",
       "1147  12/30/2016 15:41  12/30/2016 16:03  Business           Karachi   \n",
       "1148  12/30/2016 16:45  12/30/2016 17:08  Business           Karachi   \n",
       "1149  12/30/2016 23:06  12/30/2016 23:10  Business           Karachi   \n",
       "1150   12/31/2016 1:07   12/31/2016 1:14  Business           Karachi   \n",
       "1151  12/31/2016 13:24  12/31/2016 13:42  Business           Karachi   \n",
       "1152  12/31/2016 15:03  12/31/2016 15:38  Business  Unknown Location   \n",
       "1153  12/31/2016 21:32  12/31/2016 21:50  Business        Katunayake   \n",
       "1154  12/31/2016 22:08  12/31/2016 23:51  Business           Gampaha   \n",
       "\n",
       "                 STOP*  MILES*         PURPOSE*  \n",
       "1145           Karachi     2.8  Errand/Supplies  \n",
       "1146           Karachi     2.9  Errand/Supplies  \n",
       "1147           Karachi     4.6  Errand/Supplies  \n",
       "1148           Karachi     4.6          Meeting  \n",
       "1149           Karachi     0.8   Customer Visit  \n",
       "1150           Karachi     0.7          Meeting  \n",
       "1151  Unknown Location     3.9   Temporary Site  \n",
       "1152  Unknown Location    16.2          Meeting  \n",
       "1153           Gampaha     6.4   Temporary Site  \n",
       "1154         Ilukwatta    48.2   Temporary Site  "
      ]
     },
     "execution_count": 5,
     "metadata": {},
     "output_type": "execute_result"
    }
   ],
   "source": [
    "UberDriveData.tail(10) #Tail displays the last n rows for the data"
   ]
  },
  {
   "cell_type": "markdown",
   "metadata": {
    "id": "ipD0ZQ9O198O"
   },
   "source": [
    "## Q2. Show the first 10 records of the dataset. (2 points)"
   ]
  },
  {
   "cell_type": "code",
   "execution_count": 6,
   "metadata": {
    "colab": {
     "base_uri": "https://localhost:8080/",
     "height": 359
    },
    "id": "XzYRsxR1198O",
    "outputId": "453fc6bd-26c1-41d1-82a4-f5bbacda0723"
   },
   "outputs": [
    {
     "data": {
      "text/html": [
       "<div>\n",
       "<style scoped>\n",
       "    .dataframe tbody tr th:only-of-type {\n",
       "        vertical-align: middle;\n",
       "    }\n",
       "\n",
       "    .dataframe tbody tr th {\n",
       "        vertical-align: top;\n",
       "    }\n",
       "\n",
       "    .dataframe thead th {\n",
       "        text-align: right;\n",
       "    }\n",
       "</style>\n",
       "<table border=\"1\" class=\"dataframe\">\n",
       "  <thead>\n",
       "    <tr style=\"text-align: right;\">\n",
       "      <th></th>\n",
       "      <th>START_DATE*</th>\n",
       "      <th>END_DATE*</th>\n",
       "      <th>CATEGORY*</th>\n",
       "      <th>START*</th>\n",
       "      <th>STOP*</th>\n",
       "      <th>MILES*</th>\n",
       "      <th>PURPOSE*</th>\n",
       "    </tr>\n",
       "  </thead>\n",
       "  <tbody>\n",
       "    <tr>\n",
       "      <th>0</th>\n",
       "      <td>01-01-2016 21:11</td>\n",
       "      <td>01-01-2016 21:17</td>\n",
       "      <td>Business</td>\n",
       "      <td>Fort Pierce</td>\n",
       "      <td>Fort Pierce</td>\n",
       "      <td>5.1</td>\n",
       "      <td>Meal/Entertain</td>\n",
       "    </tr>\n",
       "    <tr>\n",
       "      <th>1</th>\n",
       "      <td>01-02-2016 01:25</td>\n",
       "      <td>01-02-2016 01:37</td>\n",
       "      <td>Business</td>\n",
       "      <td>Fort Pierce</td>\n",
       "      <td>Fort Pierce</td>\n",
       "      <td>5.0</td>\n",
       "      <td>NaN</td>\n",
       "    </tr>\n",
       "    <tr>\n",
       "      <th>2</th>\n",
       "      <td>01-02-2016 20:25</td>\n",
       "      <td>01-02-2016 20:38</td>\n",
       "      <td>Business</td>\n",
       "      <td>Fort Pierce</td>\n",
       "      <td>Fort Pierce</td>\n",
       "      <td>4.8</td>\n",
       "      <td>Errand/Supplies</td>\n",
       "    </tr>\n",
       "    <tr>\n",
       "      <th>3</th>\n",
       "      <td>01-05-2016 17:31</td>\n",
       "      <td>01-05-2016 17:45</td>\n",
       "      <td>Business</td>\n",
       "      <td>Fort Pierce</td>\n",
       "      <td>Fort Pierce</td>\n",
       "      <td>4.7</td>\n",
       "      <td>Meeting</td>\n",
       "    </tr>\n",
       "    <tr>\n",
       "      <th>4</th>\n",
       "      <td>01-06-2016 14:42</td>\n",
       "      <td>01-06-2016 15:49</td>\n",
       "      <td>Business</td>\n",
       "      <td>Fort Pierce</td>\n",
       "      <td>West Palm Beach</td>\n",
       "      <td>63.7</td>\n",
       "      <td>Customer Visit</td>\n",
       "    </tr>\n",
       "    <tr>\n",
       "      <th>5</th>\n",
       "      <td>01-06-2016 17:15</td>\n",
       "      <td>01-06-2016 17:19</td>\n",
       "      <td>Business</td>\n",
       "      <td>West Palm Beach</td>\n",
       "      <td>West Palm Beach</td>\n",
       "      <td>4.3</td>\n",
       "      <td>Meal/Entertain</td>\n",
       "    </tr>\n",
       "    <tr>\n",
       "      <th>6</th>\n",
       "      <td>01-06-2016 17:30</td>\n",
       "      <td>01-06-2016 17:35</td>\n",
       "      <td>Business</td>\n",
       "      <td>West Palm Beach</td>\n",
       "      <td>Palm Beach</td>\n",
       "      <td>7.1</td>\n",
       "      <td>Meeting</td>\n",
       "    </tr>\n",
       "    <tr>\n",
       "      <th>7</th>\n",
       "      <td>01-07-2016 13:27</td>\n",
       "      <td>01-07-2016 13:33</td>\n",
       "      <td>Business</td>\n",
       "      <td>Cary</td>\n",
       "      <td>Cary</td>\n",
       "      <td>0.8</td>\n",
       "      <td>Meeting</td>\n",
       "    </tr>\n",
       "    <tr>\n",
       "      <th>8</th>\n",
       "      <td>01-10-2016 08:05</td>\n",
       "      <td>01-10-2016 08:25</td>\n",
       "      <td>Business</td>\n",
       "      <td>Cary</td>\n",
       "      <td>Morrisville</td>\n",
       "      <td>8.3</td>\n",
       "      <td>Meeting</td>\n",
       "    </tr>\n",
       "    <tr>\n",
       "      <th>9</th>\n",
       "      <td>01-10-2016 12:17</td>\n",
       "      <td>01-10-2016 12:44</td>\n",
       "      <td>Business</td>\n",
       "      <td>Jamaica</td>\n",
       "      <td>New York</td>\n",
       "      <td>16.5</td>\n",
       "      <td>Customer Visit</td>\n",
       "    </tr>\n",
       "  </tbody>\n",
       "</table>\n",
       "</div>"
      ],
      "text/plain": [
       "        START_DATE*         END_DATE* CATEGORY*           START*  \\\n",
       "0  01-01-2016 21:11  01-01-2016 21:17  Business      Fort Pierce   \n",
       "1  01-02-2016 01:25  01-02-2016 01:37  Business      Fort Pierce   \n",
       "2  01-02-2016 20:25  01-02-2016 20:38  Business      Fort Pierce   \n",
       "3  01-05-2016 17:31  01-05-2016 17:45  Business      Fort Pierce   \n",
       "4  01-06-2016 14:42  01-06-2016 15:49  Business      Fort Pierce   \n",
       "5  01-06-2016 17:15  01-06-2016 17:19  Business  West Palm Beach   \n",
       "6  01-06-2016 17:30  01-06-2016 17:35  Business  West Palm Beach   \n",
       "7  01-07-2016 13:27  01-07-2016 13:33  Business             Cary   \n",
       "8  01-10-2016 08:05  01-10-2016 08:25  Business             Cary   \n",
       "9  01-10-2016 12:17  01-10-2016 12:44  Business          Jamaica   \n",
       "\n",
       "             STOP*  MILES*         PURPOSE*  \n",
       "0      Fort Pierce     5.1   Meal/Entertain  \n",
       "1      Fort Pierce     5.0              NaN  \n",
       "2      Fort Pierce     4.8  Errand/Supplies  \n",
       "3      Fort Pierce     4.7          Meeting  \n",
       "4  West Palm Beach    63.7   Customer Visit  \n",
       "5  West Palm Beach     4.3   Meal/Entertain  \n",
       "6       Palm Beach     7.1          Meeting  \n",
       "7             Cary     0.8          Meeting  \n",
       "8      Morrisville     8.3          Meeting  \n",
       "9         New York    16.5   Customer Visit  "
      ]
     },
     "execution_count": 6,
     "metadata": {},
     "output_type": "execute_result"
    }
   ],
   "source": [
    "UberDriveData.head(10) #Head displays the top n rows for the data"
   ]
  },
  {
   "cell_type": "markdown",
   "metadata": {
    "id": "R2F4GX15198S"
   },
   "source": [
    "## Q3. Show the dimension(number of rows and columns) of the dataset. (2 points)"
   ]
  },
  {
   "cell_type": "code",
   "execution_count": 7,
   "metadata": {
    "colab": {
     "base_uri": "https://localhost:8080/"
    },
    "id": "5YAWUNwZ198T",
    "outputId": "36e5d587-b2e3-406b-8678-b8d9ea8aa79a"
   },
   "outputs": [
    {
     "name": "stdout",
     "output_type": "stream",
     "text": [
      "\u001b[1mTOTAL DATA ROWS: \u001b[0m \u001b[32m\u001b[1m 1155 \u001b[0m\n",
      "\u001b[1mTOTAL DATA COLUMNS: \u001b[0m \u001b[32m\u001b[1m 7 \u001b[0m\n",
      "\u001b[1mDATASET DIMENSION: \u001b[0m \u001b[32m\u001b[1m (1155, 7) \u001b[0m\n",
      "\u001b[1mDATASET STRUCTURE FORM: \u001b[0m \u001b[32m\u001b[1m 2 DIMENSIONAL DATA FRAME WITH 1155 ROWS & 7 COLUMNS ALIGNED IN A TABLE \u001b[0m\n"
     ]
    }
   ],
   "source": [
    "#------------------------------------------------------------------------------------------------------------------------------#\n",
    "#            THE COMMANDS SHOWN BELOW GIVES A CLEAR IDEA OF THE STRUCTURE FOR THE DATASET WE WILL BE USING                     #\n",
    "#------------------------------------------------------------------------------------------------------------------------------#\n",
    "\n",
    "#Total number of rows for the data\n",
    "print('\\033[1mTOTAL DATA ROWS: \\033[0m','\\33[32m''\\033[1m', len(UberDriveData),'\\033[0m')\n",
    "#Total number of columns for the data\n",
    "print(\"\\033[1mTOTAL DATA COLUMNS: \\033[0m\",'\\33[32m''\\033[1m', len(UberDriveData.columns),'\\033[0m')\n",
    "#Number of rows and columns (Combined) for the data\n",
    "print(\"\\033[1mDATASET DIMENSION: \\033[0m\",'\\33[32m''\\033[1m', UberDriveData.shape,'\\033[0m')\n",
    "#Number of dimensions for the data\n",
    "print(\"\\033[1mDATASET STRUCTURE FORM: \\033[0m\",'\\33[32m''\\033[1m',UberDriveData.ndim , \"DIMENSIONAL DATA FRAME WITH\",len(UberDriveData),\"ROWS &\",len(UberDriveData.columns),\"COLUMNS ALIGNED IN A TABLE\",'\\033[0m')\n",
    "\n",
    "#==============================================================================================================================#\n",
    "#           INFERENCE: The dataset structure is stored in a 2-dimensional data frame with 1155 rows and 7 columns.             #\n",
    "#==============================================================================================================================#"
   ]
  },
  {
   "cell_type": "markdown",
   "metadata": {
    "id": "H6x0S6vs198W"
   },
   "source": [
    "## Q4. Show the size (Total number of elements) of the dataset. (2 points)"
   ]
  },
  {
   "cell_type": "code",
   "execution_count": 8,
   "metadata": {
    "colab": {
     "base_uri": "https://localhost:8080/"
    },
    "id": "2IQc1x7D198X",
    "outputId": "1d740ac9-5d96-489e-fd2a-8863d2b94655"
   },
   "outputs": [
    {
     "name": "stdout",
     "output_type": "stream",
     "text": [
      "\u001b[1mDATASET SIZE: \u001b[0m \u001b[32m\u001b[1m 8085 \u001b[0m\n"
     ]
    }
   ],
   "source": [
    "print('\\033[1mDATASET SIZE: \\033[0m','\\33[32m''\\033[1m',UberDriveData.size,'\\033[0m') #Total number of elements for the data\n",
    "\n",
    "#==============================================================================================================================#\n",
    "# INFERENCE: The total number of elements combining all 1155 rows and 7 columns for the dataset,as observed, is 8085 elements. #\n",
    "#==============================================================================================================================#"
   ]
  },
  {
   "cell_type": "markdown",
   "metadata": {
    "id": "c2ATRpjm198a"
   },
   "source": [
    "## Q5. Display the information about all the variables of the data set. What can you infer from the output?(1 +2 points)\n",
    "\n",
    "#### Hint: Information includes - Total number of columns,variable data-types, number of non-null values in a variable, and usage"
   ]
  },
  {
   "cell_type": "code",
   "execution_count": 9,
   "metadata": {
    "colab": {
     "base_uri": "https://localhost:8080/"
    },
    "id": "D7Pfnrb6198b",
    "outputId": "33673c70-4ae3-410c-8495-a91a44c5a601"
   },
   "outputs": [
    {
     "name": "stdout",
     "output_type": "stream",
     "text": [
      "\u001b[1mINFORMATION ON DATASET: \u001b[0m\n",
      "  \n",
      "<class 'pandas.core.frame.DataFrame'>\n",
      "RangeIndex: 1155 entries, 0 to 1154\n",
      "Data columns (total 7 columns):\n",
      " #   Column       Non-Null Count  Dtype  \n",
      "---  ------       --------------  -----  \n",
      " 0   START_DATE*  1155 non-null   object \n",
      " 1   END_DATE*    1155 non-null   object \n",
      " 2   CATEGORY*    1155 non-null   object \n",
      " 3   START*       1155 non-null   object \n",
      " 4   STOP*        1155 non-null   object \n",
      " 5   MILES*       1155 non-null   float64\n",
      " 6   PURPOSE*     653 non-null    object \n",
      "dtypes: float64(1), object(6)\n",
      "memory usage: 63.3+ KB\n",
      "None\n",
      "  \n",
      "\u001b[1mVARIABLE BY NULL VALUE COUNT (ADDITIONAL): \u001b[0m\n",
      "  \n",
      "START_DATE*      0\n",
      "END_DATE*        0\n",
      "CATEGORY*        0\n",
      "START*           0\n",
      "STOP*            0\n",
      "MILES*           0\n",
      "PURPOSE*       502\n",
      "dtype: int64\n"
     ]
    }
   ],
   "source": [
    "#------------------------------------------------------------------------------------------------------------------------------#\n",
    "#                THE COMMANDS SHOWN BELOW GIVES US A BASIC INTRODUCTION ON THE DATASET WE WILL BE USING                        #\n",
    "#------------------------------------------------------------------------------------------------------------------------------#\n",
    "\n",
    "print(\"\\033[1mINFORMATION ON DATASET: \\033[0m\")\n",
    "print(\"  \")\n",
    "print (UberDriveData.info()) #Information about all the variables for the data\n",
    "print(\"  \")\n",
    "print(\"\\033[1mVARIABLE BY NULL VALUE COUNT (ADDITIONAL): \\033[0m\")\n",
    "print(\"  \")\n",
    "print(UberDriveData.isnull().sum()) #Total Number of null values in the variables for the data\n",
    "\n",
    "#==============================================================================================================================#\n",
    "#INFERENCE: The output again confirms the dimensions of the data frame object as it gives you the total number of rows and     #\n",
    "#           columns present in the data frame similar to what we saw earlier in Q3.  We also see the data column information   #\n",
    "#           i.e., their name, non-null count and type. Two important issues can be inferred from the output shown above and    #\n",
    "#           might need to be worked on later per requirement, details for them are given below:                                #\n",
    "#                                                                                                                              #\n",
    "#           1)All the data types are set to object (except for MILES*) even though we have date, categorical and numerical     #\n",
    "#             values to work with hence, a conversion might be required later on for few variables during data processing      #\n",
    "#             stage to get accurate analytical results.                                                                        #\n",
    "#           2)There are missing (null) values present in the variable 'Purpose' hence we might need to treat these values in   #\n",
    "#             case we are planning to do any analysis that can get affected by their presence.                                 #\n",
    "#                                                                                                                              #\n",
    "#           During data processing phase, we have to check for these issues and get them rectified before we can accordingly   #\n",
    "#           move ahead to the Model Building Phase.  (Memory Usage can be ignored for now since its value is very less, it     #\n",
    "#           only explains the total memory used by the data frame object elements and will need attention only when the value  #\n",
    "#           is quite significant)                                                                                              #\n",
    "#==============================================================================================================================#"
   ]
  },
  {
   "cell_type": "markdown",
   "metadata": {
    "id": "emZkbUV_198g"
   },
   "source": [
    "## Q6. Check for missing values. (2 points) \n",
    "\n",
    "####  Note: Output should contain only one boolean value"
   ]
  },
  {
   "cell_type": "code",
   "execution_count": 10,
   "metadata": {
    "colab": {
     "base_uri": "https://localhost:8080/"
    },
    "id": "XWU-AunT198h",
    "outputId": "cf6a6413-8b96-44a1-a3a6-cd3640761e2d"
   },
   "outputs": [
    {
     "name": "stdout",
     "output_type": "stream",
     "text": [
      "\u001b[1m ANY MISSING VALUES PRESENT IN DATA(T/F):\u001b[0m \u001b[32m\u001b[1m True \u001b[0m\n"
     ]
    }
   ],
   "source": [
    "#------------------------------------------------------------------------------------------------------------------------------#\n",
    "# THIS COMMAND WILL INITIALLY CHECK ALL THE VARIABLES PRESENT IN THE DATA FOR MISSING VALUES AND RETURN TRUE FOR EACH ENTRY IF #\n",
    "# A MISSING VALUE IS PRESENT. IT THEN ASSESSES THE OUTPUT COMPUTED EARLIER FOR THE ENTIRE DATASET AND RETURNS TRUE IF ANY      #\n",
    "# VARIABLE HAS EVEN ONE SINGLE TRUE VALUE ENTRY AND RETURNS FALSE IF NO TRUE VALUE ENTRIES ARE OBSERVED FOR THE VARIABLES.     #\n",
    "#------------------------------------------------------------------------------------------------------------------------------#\n",
    "\n",
    "print(\"\\033[1m ANY MISSING VALUES PRESENT IN DATA(T/F):\\033[0m\",'\\33[32m''\\033[1m',UberDriveData.isnull().any().any(),'\\033[0m')\n",
    "\n",
    "#==============================================================================================================================#\n",
    "#INFERENCE: There are missing values present in the dataset that might need treatment,type of treatment will depend upon the   #\n",
    "#           analytics process we will be using the dataset for.                                                                #\n",
    "#==============================================================================================================================#"
   ]
  },
  {
   "cell_type": "markdown",
   "metadata": {
    "id": "UCvC2OPe198l"
   },
   "source": [
    "## Q7. How many missing values are present in the entire dataset? (2 points)\n"
   ]
  },
  {
   "cell_type": "code",
   "execution_count": 11,
   "metadata": {
    "colab": {
     "base_uri": "https://localhost:8080/"
    },
    "id": "o2-vHyGA198m",
    "outputId": "60923ca7-1704-41c0-9620-6be35e10ed3b"
   },
   "outputs": [
    {
     "name": "stdout",
     "output_type": "stream",
     "text": [
      "\u001b[1mTOTAL NUMBER OF MISSING VALUES IN THE DATASET: \u001b[0m \u001b[32m\u001b[1m 502 \u001b[0m\n",
      " \n",
      "\u001b[1mCHECKING WHICH DATA VARIABLES HAVE MISSING VALUES: \u001b[0m\n",
      "START_DATE*    False\n",
      "END_DATE*      False\n",
      "CATEGORY*      False\n",
      "START*         False\n",
      "STOP*          False\n",
      "MILES*         False\n",
      "PURPOSE*        True\n",
      "dtype: bool\n",
      " \n",
      "\u001b[1mTOTAL NUMBER OF MISSING VALUES PER DATA VARIABLE: \u001b[0m\n",
      "START_DATE*      0\n",
      "END_DATE*        0\n",
      "CATEGORY*        0\n",
      "START*           0\n",
      "STOP*            0\n",
      "MILES*           0\n",
      "PURPOSE*       502\n",
      "dtype: int64\n"
     ]
    }
   ],
   "source": [
    "#------------------------------------------------------------------------------------------------------------------------------#\n",
    "# THESE COMMANDS WILL GIVE THE TOTAL NUMBER OF THE NULL VALUES (OR MISSING VALUES) PRESENT IN THE ENTIRE DATASET, WHICH        #\n",
    "# VARIABLES HAVE MISSING VALUES AND HOW MANY MISSING VALUES EXIST PER DATA VARIABLE.                                           #\n",
    "#------------------------------------------------------------------------------------------------------------------------------#\n",
    "\n",
    "#Shows the total count of missing values present in each variable\n",
    "print(\"\\033[1mTOTAL NUMBER OF MISSING VALUES IN THE DATASET: \\033[0m\",'\\33[32m''\\033[1m',UberDriveData.isnull().sum().sum(),'\\033[0m') \n",
    "print(\" \")\n",
    "print(\"\\033[1mCHECKING WHICH DATA VARIABLES HAVE MISSING VALUES: \\033[0m\")\n",
    "print(UberDriveData.isnull().any()) #Shows which variables have missing values present\n",
    "print(\" \")\n",
    "print(\"\\033[1mTOTAL NUMBER OF MISSING VALUES PER DATA VARIABLE: \\033[0m\")\n",
    "print(UberDriveData.isnull().sum()) #Shows which variables have missing values present\n",
    "\n",
    "#==============================================================================================================================#\n",
    "#INFERENCE: We see only one variable in the dataset with missing values which is PURPOSE* having 502 null values and 653 non-  #\n",
    "#           null values.                                                                                                       #\n",
    "#==============================================================================================================================#"
   ]
  },
  {
   "cell_type": "markdown",
   "metadata": {
    "id": "617aSeL_198q"
   },
   "source": [
    "## Q8. Get the summary of the original data. (2 points).\n",
    "\n",
    "#### Hint: Summary includes- Count,Mean, Std, Min, 25%,50%,75% and max"
   ]
  },
  {
   "cell_type": "code",
   "execution_count": 12,
   "metadata": {
    "colab": {
     "base_uri": "https://localhost:8080/",
     "height": 297
    },
    "id": "hMkibRQg198q",
    "outputId": "e4e9580a-3465-4bb5-d564-6b14bf8d4adb"
   },
   "outputs": [
    {
     "data": {
      "text/html": [
       "<div>\n",
       "<style scoped>\n",
       "    .dataframe tbody tr th:only-of-type {\n",
       "        vertical-align: middle;\n",
       "    }\n",
       "\n",
       "    .dataframe tbody tr th {\n",
       "        vertical-align: top;\n",
       "    }\n",
       "\n",
       "    .dataframe thead th {\n",
       "        text-align: right;\n",
       "    }\n",
       "</style>\n",
       "<table border=\"1\" class=\"dataframe\">\n",
       "  <thead>\n",
       "    <tr style=\"text-align: right;\">\n",
       "      <th></th>\n",
       "      <th>START_DATE*</th>\n",
       "      <th>END_DATE*</th>\n",
       "      <th>CATEGORY*</th>\n",
       "      <th>START*</th>\n",
       "      <th>STOP*</th>\n",
       "      <th>MILES*</th>\n",
       "      <th>PURPOSE*</th>\n",
       "    </tr>\n",
       "  </thead>\n",
       "  <tbody>\n",
       "    <tr>\n",
       "      <th>count</th>\n",
       "      <td>1155</td>\n",
       "      <td>1155</td>\n",
       "      <td>1155</td>\n",
       "      <td>1155</td>\n",
       "      <td>1155</td>\n",
       "      <td>1155.000000</td>\n",
       "      <td>653</td>\n",
       "    </tr>\n",
       "    <tr>\n",
       "      <th>unique</th>\n",
       "      <td>1154</td>\n",
       "      <td>1154</td>\n",
       "      <td>2</td>\n",
       "      <td>176</td>\n",
       "      <td>187</td>\n",
       "      <td>NaN</td>\n",
       "      <td>10</td>\n",
       "    </tr>\n",
       "    <tr>\n",
       "      <th>top</th>\n",
       "      <td>6/28/2016 23:34</td>\n",
       "      <td>6/28/2016 23:59</td>\n",
       "      <td>Business</td>\n",
       "      <td>Cary</td>\n",
       "      <td>Cary</td>\n",
       "      <td>NaN</td>\n",
       "      <td>Meeting</td>\n",
       "    </tr>\n",
       "    <tr>\n",
       "      <th>freq</th>\n",
       "      <td>2</td>\n",
       "      <td>2</td>\n",
       "      <td>1078</td>\n",
       "      <td>201</td>\n",
       "      <td>203</td>\n",
       "      <td>NaN</td>\n",
       "      <td>187</td>\n",
       "    </tr>\n",
       "    <tr>\n",
       "      <th>mean</th>\n",
       "      <td>NaN</td>\n",
       "      <td>NaN</td>\n",
       "      <td>NaN</td>\n",
       "      <td>NaN</td>\n",
       "      <td>NaN</td>\n",
       "      <td>10.566840</td>\n",
       "      <td>NaN</td>\n",
       "    </tr>\n",
       "    <tr>\n",
       "      <th>std</th>\n",
       "      <td>NaN</td>\n",
       "      <td>NaN</td>\n",
       "      <td>NaN</td>\n",
       "      <td>NaN</td>\n",
       "      <td>NaN</td>\n",
       "      <td>21.579106</td>\n",
       "      <td>NaN</td>\n",
       "    </tr>\n",
       "    <tr>\n",
       "      <th>min</th>\n",
       "      <td>NaN</td>\n",
       "      <td>NaN</td>\n",
       "      <td>NaN</td>\n",
       "      <td>NaN</td>\n",
       "      <td>NaN</td>\n",
       "      <td>0.500000</td>\n",
       "      <td>NaN</td>\n",
       "    </tr>\n",
       "    <tr>\n",
       "      <th>25%</th>\n",
       "      <td>NaN</td>\n",
       "      <td>NaN</td>\n",
       "      <td>NaN</td>\n",
       "      <td>NaN</td>\n",
       "      <td>NaN</td>\n",
       "      <td>2.900000</td>\n",
       "      <td>NaN</td>\n",
       "    </tr>\n",
       "    <tr>\n",
       "      <th>50%</th>\n",
       "      <td>NaN</td>\n",
       "      <td>NaN</td>\n",
       "      <td>NaN</td>\n",
       "      <td>NaN</td>\n",
       "      <td>NaN</td>\n",
       "      <td>6.000000</td>\n",
       "      <td>NaN</td>\n",
       "    </tr>\n",
       "    <tr>\n",
       "      <th>75%</th>\n",
       "      <td>NaN</td>\n",
       "      <td>NaN</td>\n",
       "      <td>NaN</td>\n",
       "      <td>NaN</td>\n",
       "      <td>NaN</td>\n",
       "      <td>10.400000</td>\n",
       "      <td>NaN</td>\n",
       "    </tr>\n",
       "    <tr>\n",
       "      <th>max</th>\n",
       "      <td>NaN</td>\n",
       "      <td>NaN</td>\n",
       "      <td>NaN</td>\n",
       "      <td>NaN</td>\n",
       "      <td>NaN</td>\n",
       "      <td>310.300000</td>\n",
       "      <td>NaN</td>\n",
       "    </tr>\n",
       "  </tbody>\n",
       "</table>\n",
       "</div>"
      ],
      "text/plain": [
       "            START_DATE*        END_DATE* CATEGORY* START* STOP*       MILES*  \\\n",
       "count              1155             1155      1155   1155  1155  1155.000000   \n",
       "unique             1154             1154         2    176   187          NaN   \n",
       "top     6/28/2016 23:34  6/28/2016 23:59  Business   Cary  Cary          NaN   \n",
       "freq                  2                2      1078    201   203          NaN   \n",
       "mean                NaN              NaN       NaN    NaN   NaN    10.566840   \n",
       "std                 NaN              NaN       NaN    NaN   NaN    21.579106   \n",
       "min                 NaN              NaN       NaN    NaN   NaN     0.500000   \n",
       "25%                 NaN              NaN       NaN    NaN   NaN     2.900000   \n",
       "50%                 NaN              NaN       NaN    NaN   NaN     6.000000   \n",
       "75%                 NaN              NaN       NaN    NaN   NaN    10.400000   \n",
       "max                 NaN              NaN       NaN    NaN   NaN   310.300000   \n",
       "\n",
       "       PURPOSE*  \n",
       "count       653  \n",
       "unique       10  \n",
       "top     Meeting  \n",
       "freq        187  \n",
       "mean        NaN  \n",
       "std         NaN  \n",
       "min         NaN  \n",
       "25%         NaN  \n",
       "50%         NaN  \n",
       "75%         NaN  \n",
       "max         NaN  "
      ]
     },
     "execution_count": 12,
     "metadata": {},
     "output_type": "execute_result"
    },
    {
     "data": {
      "text/html": [
       "<div>\n",
       "<style scoped>\n",
       "    .dataframe tbody tr th:only-of-type {\n",
       "        vertical-align: middle;\n",
       "    }\n",
       "\n",
       "    .dataframe tbody tr th {\n",
       "        vertical-align: top;\n",
       "    }\n",
       "\n",
       "    .dataframe thead th {\n",
       "        text-align: right;\n",
       "    }\n",
       "</style>\n",
       "<table border=\"1\" class=\"dataframe\">\n",
       "  <thead>\n",
       "    <tr style=\"text-align: right;\">\n",
       "      <th></th>\n",
       "      <th>MILES*</th>\n",
       "    </tr>\n",
       "  </thead>\n",
       "  <tbody>\n",
       "    <tr>\n",
       "      <th>count</th>\n",
       "      <td>1155.000000</td>\n",
       "    </tr>\n",
       "    <tr>\n",
       "      <th>mean</th>\n",
       "      <td>10.566840</td>\n",
       "    </tr>\n",
       "    <tr>\n",
       "      <th>std</th>\n",
       "      <td>21.579106</td>\n",
       "    </tr>\n",
       "    <tr>\n",
       "      <th>min</th>\n",
       "      <td>0.500000</td>\n",
       "    </tr>\n",
       "    <tr>\n",
       "      <th>25%</th>\n",
       "      <td>2.900000</td>\n",
       "    </tr>\n",
       "    <tr>\n",
       "      <th>50%</th>\n",
       "      <td>6.000000</td>\n",
       "    </tr>\n",
       "    <tr>\n",
       "      <th>75%</th>\n",
       "      <td>10.400000</td>\n",
       "    </tr>\n",
       "    <tr>\n",
       "      <th>max</th>\n",
       "      <td>310.300000</td>\n",
       "    </tr>\n",
       "  </tbody>\n",
       "</table>\n",
       "</div>"
      ],
      "text/plain": [
       "            MILES*\n",
       "count  1155.000000\n",
       "mean     10.566840\n",
       "std      21.579106\n",
       "min       0.500000\n",
       "25%       2.900000\n",
       "50%       6.000000\n",
       "75%      10.400000\n",
       "max     310.300000"
      ]
     },
     "execution_count": 12,
     "metadata": {},
     "output_type": "execute_result"
    }
   ],
   "source": [
    "#------------------------------------------------------------------------------------------------------------------------------#\n",
    "#                               THIS COMMAND PROVIDES A SUMMARY FOR ALL THE DATASET VARIABLES                                  #\n",
    "#------------------------------------------------------------------------------------------------------------------------------#\n",
    "\n",
    "#Keeping all the variables for analysis, this will give NAN based on variable data types and measure computed\n",
    "UberDriveData.describe(include='all')\n",
    "#Keeping just the numerical (MILES*) variables for analysis\n",
    "UberDriveData.describe()\n",
    "\n",
    "#==============================================================================================================================#\n",
    "# INFERENCE:  Below are the important observations from the summary computed below:                                            #\n",
    "#          1) 6 variables out of 7 have no missing observations present, we only need to treat one variable i.e. PURPOSE* for  #\n",
    "#             502 null values (Out of 1155, 653 non-null values) per requirement.                                              #\n",
    "#          2) For Start Date/ End Date except for one date (6/28/2016) all other dates are unique. We also have 2 unique trip  #\n",
    "#             categories, 176 start locations, 187 stop locations and 10 unique trip purposes.                                 #\n",
    "#          3) The maximum frequencies observed in the variables are 2 for dates, 1078 (Business) for category, 201 (Cary) for  #\n",
    "#             start locations, 203 for stop (Cary) locations and 187 (Meeting) for Trip Purposes.                              #\n",
    "#          4) The one numerical variable that we have i.e. MILES* has continuous numerical data with an average of 10.57,      #\n",
    "#             standard deviation of 21.58, min and max values of 0.50 and 310.30 respectively and lastly the quartile values   #\n",
    "#             of 25% at 2.9, 50% at 6.0 and 75% at 10.4 accordingly.                                                           #\n",
    "#==============================================================================================================================#"
   ]
  },
  {
   "cell_type": "markdown",
   "metadata": {
    "id": "8PmU-86n198v"
   },
   "source": [
    "\n",
    "\n",
    "## Q9. Drop the missing values and store the data in a new dataframe (name it\"df\") (2-points)\n",
    "\n",
    "#### Note: Dataframe \"df\" will not contain any missing value"
   ]
  },
  {
   "cell_type": "code",
   "execution_count": 13,
   "metadata": {
    "colab": {
     "base_uri": "https://localhost:8080/"
    },
    "id": "3xZC0dvq198w",
    "outputId": "1a2eb61f-65f4-4344-c151-e7f623a35fe6"
   },
   "outputs": [
    {
     "name": "stdout",
     "output_type": "stream",
     "text": [
      "\u001b[1mARE THERE ANY NULL VALUES IN UPDATED DATAFRAME DF:\u001b[0m \u001b[32m\u001b[1m False \u001b[0m\n",
      "\u001b[1mUPDATED DIMENSIONS FOR THE DATAFRAME DF:\u001b[0m \u001b[32m\u001b[1m (653, 7) \u001b[0m\n",
      "\u001b[1mUPDATED SIZE FOR THE DATAFRAME DF:\u001b[0m \u001b[32m\u001b[1m 4571 \u001b[0m\n"
     ]
    }
   ],
   "source": [
    "#------------------------------------------------------------------------------------------------------------------------------#\n",
    "#  THE COMMANDS SHOWN BELOW WILL REMOVE THE MISSING VALUES AND STORE THE UPDATED DATASET IN A NEW DATA FRAME DF. IT WILL ALSO  # \n",
    "#  VERIFY IF THE MISSING VALUES WERE CORRECTLY REMOVED IN THE NEW DATA FRAME                                                   #\n",
    "#------------------------------------------------------------------------------------------------------------------------------#\n",
    "\n",
    "#Storing the original dataset, with dropped missing value entries/rows, in the new dataframe and naming the data frame df\n",
    "df = UberDriveData.dropna()\n",
    "\n",
    "#Verifying if new dataframe has any null values present \n",
    "print(\"\\033[1mARE THERE ANY NULL VALUES IN UPDATED DATAFRAME DF:\\033[0m\",'\\33[32m''\\033[1m',df.isnull().values.any(),\"\\033[0m\")\n",
    "\n",
    "#Getting the  new updated shape or dimensions of the dataframe post removal of the null values\n",
    "print(\"\\033[1mUPDATED DIMENSIONS FOR THE DATAFRAME DF:\\033[0m\",'\\33[32m''\\033[1m',df.shape,\"\\033[0m\")\n",
    "print(\"\\033[1mUPDATED SIZE FOR THE DATAFRAME DF:\\033[0m\",'\\33[32m''\\033[1m',df.size,\"\\033[0m\")\n",
    "\n",
    "#==============================================================================================================================#\n",
    "# INFERENCE: Once the null values were dropped, the dimensions for the new dataframe df came out as 653 rows and 7 columns with#\n",
    "#            4571 total elements.                                                                                              #\n",
    "#==============================================================================================================================#"
   ]
  },
  {
   "cell_type": "markdown",
   "metadata": {
    "id": "2vIFI9G61983"
   },
   "source": [
    "## Q10. Check the information of the dataframe(df). (1 points)\n",
    "\n",
    "#### Hint: Information includes - Total number of columns,variable data-types, number of non-null values in a variable, and usage"
   ]
  },
  {
   "cell_type": "code",
   "execution_count": 14,
   "metadata": {
    "colab": {
     "base_uri": "https://localhost:8080/"
    },
    "id": "DrmfQwDc1983",
    "outputId": "27394741-1b4e-4249-ee9b-728d388a6855",
    "scrolled": true
   },
   "outputs": [
    {
     "name": "stdout",
     "output_type": "stream",
     "text": [
      "\u001b[1mINFORMATION ON UPDATED DATASET IN DF:\u001b[0m\n",
      " \n",
      "<class 'pandas.core.frame.DataFrame'>\n",
      "Int64Index: 653 entries, 0 to 1154\n",
      "Data columns (total 7 columns):\n",
      " #   Column       Non-Null Count  Dtype  \n",
      "---  ------       --------------  -----  \n",
      " 0   START_DATE*  653 non-null    object \n",
      " 1   END_DATE*    653 non-null    object \n",
      " 2   CATEGORY*    653 non-null    object \n",
      " 3   START*       653 non-null    object \n",
      " 4   STOP*        653 non-null    object \n",
      " 5   MILES*       653 non-null    float64\n",
      " 6   PURPOSE*     653 non-null    object \n",
      "dtypes: float64(1), object(6)\n",
      "memory usage: 40.8+ KB\n",
      "None\n"
     ]
    }
   ],
   "source": [
    "#------------------------------------------------------------------------------------------------------------------------------#\n",
    "#                THE COMMANDS SHOWN BELOW WILL GIVE US A BASIC INTRODUCTION ON THE NEW DATAFRAME CREATED                       #\n",
    "#------------------------------------------------------------------------------------------------------------------------------#\n",
    "\n",
    "print(\"\\033[1m\"+\"INFORMATION ON UPDATED DATASET IN DF:\"+\"\\033[0m\")\n",
    "print(\" \")\n",
    "print (df.info()) #Information about all the variables for the data\n",
    "\n",
    "#==============================================================================================================================#\n",
    "# INFERENCE: As observed, we do not have any null values present in the new dataframe and total number of entries for the      #\n",
    "#            dataframe came out to be 653 with 7 columns. The dtypes for all the variables has remained same per the original  #\n",
    "#            dataframe,conversions can be done per requirement later on. Since this dataframe is made from filtering the       #\n",
    "#            original dataframe hence the index range of 0-1154 is shown. (Memory Usage is less hence can be ignored)          #\n",
    "#==============================================================================================================================#"
   ]
  },
  {
   "cell_type": "markdown",
   "metadata": {
    "id": "Pqm4jhgT1986"
   },
   "source": [
    "## Q11. Get the unique start locations. (2 points)\n",
    "#### Note: This question is based on the dataframe with no 'NA' values"
   ]
  },
  {
   "cell_type": "code",
   "execution_count": 15,
   "metadata": {
    "colab": {
     "base_uri": "https://localhost:8080/"
    },
    "id": "jsuoItZX1987",
    "outputId": "22a926cf-9774-4223-a2d5-cf91ab160401"
   },
   "outputs": [
    {
     "name": "stdout",
     "output_type": "stream",
     "text": [
      "\u001b[1m    UNIQUE UBER START LOCATIONS FROM ORIGINAL DATAFRAME:\u001b[0m\n",
      " \n",
      "['Fort Pierce' 'West Palm Beach' 'Cary' 'Jamaica' 'New York' 'Elmhurst'\n",
      " 'Midtown' 'East Harlem' 'Flatiron District' 'Midtown East'\n",
      " 'Hudson Square' 'Lower Manhattan' \"Hell's Kitchen\" 'Downtown' 'Gulfton'\n",
      " 'Houston' 'Eagan Park' 'Morrisville' 'Durham' 'Farmington Woods'\n",
      " 'Whitebridge' 'Lake Wellingborough' 'Fayetteville Street' 'Raleigh'\n",
      " 'Hazelwood' 'Fairmont' 'Meredith Townes' 'Apex' 'Chapel Hill'\n",
      " 'Northwoods' 'Edgehill Farms' 'Tanglewood' 'Preston' 'Eastgate'\n",
      " 'East Elmhurst' 'Jackson Heights' 'Long Island City' 'Katunayaka'\n",
      " 'Unknown Location' 'Colombo' 'Nugegoda' 'Islamabad' 'R?walpindi'\n",
      " 'Noorpur Shahan' 'Heritage Pines' 'Westpark Place' 'Waverly Place'\n",
      " 'Wayne Ridge' 'Weston' 'East Austin' 'West University' 'South Congress'\n",
      " 'The Drag' 'Congress Ave District' 'Red River District' 'Georgian Acres'\n",
      " 'North Austin' 'Coxville' 'Convention Center District' 'Austin' 'Katy'\n",
      " 'Sharpstown' 'Sugar Land' 'Galveston' 'Port Bolivar' 'Washington Avenue'\n",
      " 'Briar Meadow' 'Latta' 'Jacksonville' 'Couples Glen' 'Kissimmee'\n",
      " 'Lake Reams' 'Orlando' 'Sand Lake Commons' 'Sky Lake' 'Daytona Beach'\n",
      " 'Ridgeland' 'Florence' 'Meredith' 'Holly Springs' 'Chessington'\n",
      " 'Burtrose' 'Parkway' 'Mcvan' 'Capitol One' 'University District'\n",
      " 'Seattle' 'Redmond' 'Bellevue' 'San Francisco' 'Palo Alto' 'Sunnyvale'\n",
      " 'Newark' 'Menlo Park' 'Old City' 'Savon Height' 'Kilarney Woods'\n",
      " 'Townes at Everett Crossing' 'Huntington Woods' 'Seaport'\n",
      " 'Medical Centre' 'Rose Hill' 'Soho' 'Tribeca' 'Financial District'\n",
      " 'Oakland' 'Emeryville' 'Berkeley' 'Kenner' 'CBD' 'Lower Garden District'\n",
      " 'Lakeview' 'Storyville' 'New Orleans' 'Metairie' 'Chalmette' 'Arabi'\n",
      " 'Pontchartrain Shores' 'Marigny' 'Covington' 'Mandeville'\n",
      " 'Jamestown Court' 'Summerwinds' 'Parkwood' 'Pontchartrain Beach'\n",
      " 'St Thomas' 'Banner Elk' 'Elk Park' 'Newland' 'Boone' 'Stonewater'\n",
      " 'Lexington Park at Amberly' 'Arlington Park at Amberly' 'Arlington'\n",
      " 'Kalorama Triangle' 'K Street' 'West End' 'Connecticut Avenue'\n",
      " 'Columbia Heights' 'Washington' 'Wake Forest' 'Lahore' 'Karachi'\n",
      " 'SOMISSPO' 'West Berkeley' 'North Berkeley Hills' 'San Jose' 'Eagle Rock'\n",
      " 'Winston Salem' 'Asheville' 'Topton' 'Hayesville' 'Bryson City' 'Almond'\n",
      " 'Mebane' 'Agnew' 'Cory' 'Renaissance' 'Santa Clara' 'NOMA' 'Sunnyside'\n",
      " 'Ingleside' 'Central' 'Tenderloin' 'College Avenue' 'South' 'Southside'\n",
      " 'South Berkeley' 'Mountain View' 'El Cerrito' 'Krendle Woods' 'Wake Co.'\n",
      " 'Fuquay-Varina' 'Rawalpindi' 'Katunayake' 'Gampaha']\n",
      " \n",
      "\u001b[1m    UNIQUE UBER START LOCATIONS FROM DATAFRAME WITH NO 'NA' VALUES:\u001b[0m\n",
      " \n",
      "['Fort Pierce' 'West Palm Beach' 'Cary' 'Jamaica' 'New York' 'Elmhurst'\n",
      " 'Midtown' 'East Harlem' 'Flatiron District' 'Midtown East'\n",
      " 'Hudson Square' 'Lower Manhattan' \"Hell's Kitchen\" 'Downtown' 'Gulfton'\n",
      " 'Houston' 'Eagan Park' 'Morrisville' 'Durham' 'Farmington Woods'\n",
      " 'Lake Wellingborough' 'Fayetteville Street' 'Raleigh' 'Whitebridge'\n",
      " 'Hazelwood' 'Fairmont' 'Meredith Townes' 'Apex' 'Chapel Hill'\n",
      " 'Northwoods' 'Edgehill Farms' 'Eastgate' 'East Elmhurst'\n",
      " 'Long Island City' 'Katunayaka' 'Colombo' 'Nugegoda' 'Unknown Location'\n",
      " 'Islamabad' 'R?walpindi' 'Noorpur Shahan' 'Preston' 'Heritage Pines'\n",
      " 'Tanglewood' 'Waverly Place' 'Wayne Ridge' 'Westpark Place' 'East Austin'\n",
      " 'The Drag' 'South Congress' 'Georgian Acres' 'North Austin'\n",
      " 'West University' 'Austin' 'Katy' 'Sharpstown' 'Sugar Land' 'Galveston'\n",
      " 'Port Bolivar' 'Washington Avenue' 'Briar Meadow' 'Latta' 'Jacksonville'\n",
      " 'Lake Reams' 'Orlando' 'Kissimmee' 'Daytona Beach' 'Ridgeland' 'Florence'\n",
      " 'Meredith' 'Holly Springs' 'Chessington' 'Burtrose' 'Parkway' 'Mcvan'\n",
      " 'Capitol One' 'University District' 'Seattle' 'Redmond' 'Bellevue'\n",
      " 'San Francisco' 'Palo Alto' 'Sunnyvale' 'Newark' 'Menlo Park' 'Old City'\n",
      " 'Savon Height' 'Kilarney Woods' 'Townes at Everett Crossing'\n",
      " 'Huntington Woods' 'Weston' 'Seaport' 'Medical Centre' 'Rose Hill' 'Soho'\n",
      " 'Tribeca' 'Financial District' 'Oakland' 'Emeryville' 'Berkeley' 'Kenner'\n",
      " 'CBD' 'Lower Garden District' 'Storyville' 'New Orleans' 'Chalmette'\n",
      " 'Arabi' 'Pontchartrain Shores' 'Metairie' 'Summerwinds' 'Parkwood'\n",
      " 'Banner Elk' 'Boone' 'Stonewater' 'Lexington Park at Amberly'\n",
      " 'Winston Salem' 'Asheville' 'Topton' 'Renaissance' 'Santa Clara'\n",
      " 'Ingleside' 'West Berkeley' 'Mountain View' 'El Cerrito' 'Krendle Woods'\n",
      " 'Fuquay-Varina' 'Rawalpindi' 'Lahore' 'Karachi' 'Katunayake' 'Gampaha']\n"
     ]
    }
   ],
   "source": [
    "#------------------------------------------------------------------------------------------------------------------------------#\n",
    "#    THE COMMANDS SHOWN BELOW WILL GIVE US THE UNIQUE START LOCATIONS FOR ORIGINAL AND UPDATED DATAFRAME WITH NO NA VALUES     #\n",
    "#------------------------------------------------------------------------------------------------------------------------------#\n",
    "\n",
    "print(\"\\033[1m    UNIQUE UBER START LOCATIONS FROM ORIGINAL DATAFRAME:\\033[0m\")\n",
    "print(\" \")\n",
    "print(UberDriveData[\"START*\"].dropna().unique()) #UNIQUE UBER START LOCATIONS FROM ORIGINAL DATASET WITHOUT DROPPED LOCATIONS\n",
    "print(\" \")\n",
    "print(\"\\033[1m    UNIQUE UBER START LOCATIONS FROM DATAFRAME WITH NO 'NA' VALUES:\\033[0m\")\n",
    "print(\" \")\n",
    "print(df[\"START*\"].unique()) #UNIQUE UBER START LOCATIONS FROM DATAFRAME WITH NO 'NA' VALUES AND DROPPED LOCATIONS\n",
    "\n",
    "#==============================================================================================================================#\n",
    "# INFERENCE: A lot of start locations were dropped from the new dataframe due to NA values being present in other variables for# \n",
    "#            their representative rows(PURPOSE*).(Rawalpindi and R?walpindi are considered as separate locations here following#\n",
    "#            the instructions given in the Project FAQ)                                                                        #\n",
    "#==============================================================================================================================#"
   ]
  },
  {
   "cell_type": "markdown",
   "metadata": {
    "id": "s3s-pY1R198_"
   },
   "source": [
    "## Q12. What is the total number of unique start locations? (2 points)\n",
    "#### Note: Use the original dataframe without dropping 'NA' values"
   ]
  },
  {
   "cell_type": "code",
   "execution_count": 16,
   "metadata": {
    "colab": {
     "base_uri": "https://localhost:8080/"
    },
    "id": "OOZy88AA199A",
    "outputId": "e0c77ca6-7379-4546-f980-5e3dc9db8074"
   },
   "outputs": [
    {
     "name": "stdout",
     "output_type": "stream",
     "text": [
      "\u001b[1mTOTAL UNIQUE UBER START LOCATIONS FOR ORIGINAL DATAFRAME:\u001b[0m \u001b[32m\u001b[1m 176 \u001b[0m\n",
      "\u001b[1mTOTAL UNIQUE UBER START LOCATIONS FOR DATAFRAME WITH NO 'NA' VALUES:\u001b[0m \u001b[32m\u001b[1m 131 \u001b[0m\n"
     ]
    }
   ],
   "source": [
    "#------------------------------------------------------------------------------------------------------------------------------#\n",
    "#     THE COMMANDS SHOWN BELOW WILL GIVE US THE UNIQUE START LOCATIONS FOR ORIGINAL AND UPDATED DATAFRAME WITH NO NA VALUES    #\n",
    "#------------------------------------------------------------------------------------------------------------------------------#\n",
    "\n",
    "print(\"\\033[1mTOTAL UNIQUE UBER START LOCATIONS FOR ORIGINAL DATAFRAME:\\033[0m\",'\\33[32m''\\033[1m',UberDriveData[\"START*\"].nunique(),'\\033[0m')\n",
    "print(\"\\033[1mTOTAL UNIQUE UBER START LOCATIONS FOR DATAFRAME WITH NO 'NA' VALUES:\\033[0m\",'\\33[32m''\\033[1m',df[\"START*\"].nunique(),'\\033[0m')\n",
    "\n",
    "#==============================================================================================================================#\n",
    "# INFERENCE: A lot of start locations (45) were dropped from the new dataframe due to NA values being present in other         # \n",
    "#            variables (PURPOSE*) for their representative rows.The total number of unique start locations present in original #\n",
    "#            dataframe is 176 while for the one without NA values is 131.                                                      # \n",
    "#==============================================================================================================================#"
   ]
  },
  {
   "cell_type": "markdown",
   "metadata": {
    "id": "LuKFv1_P199D"
   },
   "source": [
    "## Q13. What is the total number of unique stop locations. (2 points)\n",
    "#### Note: Use the original dataframe without dropping 'NA' values."
   ]
  },
  {
   "cell_type": "code",
   "execution_count": 17,
   "metadata": {
    "colab": {
     "base_uri": "https://localhost:8080/"
    },
    "id": "5YeWcpZT199E",
    "outputId": "6e7f87a0-29e8-4bd3-9ee2-fc32b5259767"
   },
   "outputs": [
    {
     "name": "stdout",
     "output_type": "stream",
     "text": [
      "\u001b[1mTOTAL UNIQUE UBER STOP LOCATIONS FOR ORIGINAL DATAFRAME:\u001b[0m \u001b[32m\u001b[1m 187 \u001b[0m\n",
      "\u001b[1mTOTAL UNIQUE UBER STOP LOCATIONS FOR DATAFRAME WITH NO 'NA' VALUES:\u001b[0m \u001b[32m\u001b[1m 137 \u001b[0m\n",
      " \n",
      "\u001b[1m    UNIQUE UBER STOP LOCATIONS FROM ORIGINAL DATAFRAME:\u001b[0m\n",
      " \n",
      "['Fort Pierce' 'West Palm Beach' 'Palm Beach' 'Cary' 'Morrisville'\n",
      " 'New York' 'Queens' 'East Harlem' 'NoMad' 'Midtown' 'Midtown East'\n",
      " 'Hudson Square' 'Lower Manhattan' \"Hell's Kitchen\" 'Queens County'\n",
      " 'Gulfton' 'Downtown' 'Houston' 'Jamestown Court' 'Durham' 'Whitebridge'\n",
      " 'Lake Wellingborough' 'Raleigh' 'Umstead' 'Hazelwood' 'Westpark Place'\n",
      " 'Meredith Townes' 'Leesville Hollow' 'Apex' 'Chapel Hill'\n",
      " 'Williamsburg Manor' 'Macgregor Downs' 'Edgehill Farms' 'Northwoods'\n",
      " 'Tanglewood' 'Preston' 'Walnut Terrace' 'Jackson Heights' 'East Elmhurst'\n",
      " 'Midtown West' 'Long Island City' 'Jamaica' 'Unknown Location' 'Colombo'\n",
      " 'Nugegoda' 'Katunayaka' 'Islamabad' 'R?walpindi' 'Noorpur Shahan'\n",
      " 'Heritage Pines' 'Waverly Place' 'Wayne Ridge' 'Depot Historic District'\n",
      " 'Weston' 'West University' 'South Congress' 'Arts District'\n",
      " 'Congress Ave District' 'Red River District' 'The Drag'\n",
      " 'Convention Center District' 'North Austin' 'Coxville' 'Katy' 'Alief'\n",
      " 'Sharpstown' 'Sugar Land' 'Galveston' 'Port Bolivar' 'Washington Avenue'\n",
      " 'Briar Meadow' 'Greater Greenspoint' 'Latta' 'Jacksonville' 'Kissimmee'\n",
      " 'Isles of Buena Vista' 'Orlando' 'Lake Reams' 'Vista East' 'Sky Lake'\n",
      " 'Sand Lake Commons' 'Daytona Beach' 'Ridgeland' 'Florence' 'Cedar Hill'\n",
      " 'Holly Springs' 'Harden Place' 'Chessington' 'Burtrose' 'Parkway'\n",
      " 'Capitol One' 'University District' 'Redmond' 'Bellevue' 'Seattle'\n",
      " 'Mcvan' 'Palo Alto' 'Sunnyvale' 'Newark' 'Menlo Park' 'San Francisco'\n",
      " 'Parkway Museums' 'Hog Island' 'Savon Height' 'Kildaire Farms'\n",
      " 'Kilarney Woods' 'Gramercy-Flatiron' 'Tudor City' 'Soho' 'Tribeca'\n",
      " 'Financial District' 'Kips Bay' 'Emeryville' 'Berkeley' 'Oakland'\n",
      " 'Bay Farm Island' 'New Orleans' 'Lower Garden District' 'Lakeview'\n",
      " 'Storyville' 'Faubourg Marigny' 'Metairie' 'Kenner' 'Bywater' 'Chalmette'\n",
      " 'Arabi' 'Pontchartrain Shores' 'Marigny' 'Covington' 'Mandeville'\n",
      " 'Summerwinds' 'Parkwood' 'Pontchartrain Beach' 'CBD' 'St Thomas'\n",
      " 'Banner Elk' 'Elk Park' 'Newland' 'Boone' 'Stonewater'\n",
      " 'Lexington Park at Amberly' 'Arlington Park at Amberly' 'Washington'\n",
      " 'K Street' 'Kalorama Triangle' 'Northwest Rectangle' 'Columbia Heights'\n",
      " 'Arlington' 'Farmington Woods' 'Wake Forest' 'Lahore' 'Karachi'\n",
      " 'French Quarter' 'North Berkeley Hills' 'Southside' 'San Jose'\n",
      " 'Eagle Rock' 'Huntington Woods' 'Winston Salem' 'Asheville' 'Topton'\n",
      " 'Hayesville' 'Bryson City' 'Almond' 'Mebane' 'Santa Clara' 'Cory' 'Agnew'\n",
      " 'Renaissance' 'West Berkeley' 'Central' 'Sunnyside' 'Ingleside'\n",
      " 'Potrero Flats' 'SOMISSPO' 'Tenderloin' 'College Avenue' 'South'\n",
      " 'Southwest Berkeley' 'South Berkeley' 'Mountain View' 'El Cerrito'\n",
      " 'Wake Co.' 'Fuquay-Varina' 'Rawalpindi' 'Gampaha' 'Ilukwatta']\n",
      " \n",
      "\u001b[1m    UNIQUE UBER STOP LOCATIONS FROM DATAFRAME WITH NO 'NA' VALUES:\u001b[0m\n",
      " \n",
      "['Fort Pierce' 'West Palm Beach' 'Palm Beach' 'Cary' 'Morrisville'\n",
      " 'New York' 'Queens' 'East Harlem' 'NoMad' 'Midtown' 'Midtown East'\n",
      " 'Hudson Square' 'Lower Manhattan' \"Hell's Kitchen\" 'Queens County'\n",
      " 'Gulfton' 'Downtown' 'Houston' 'Jamestown Court' 'Durham' 'Whitebridge'\n",
      " 'Raleigh' 'Umstead' 'Hazelwood' 'Westpark Place' 'Meredith Townes'\n",
      " 'Leesville Hollow' 'Apex' 'Chapel Hill' 'Williamsburg Manor'\n",
      " 'Macgregor Downs' 'Edgehill Farms' 'Walnut Terrace' 'Midtown West'\n",
      " 'Long Island City' 'Jamaica' 'Unknown Location' 'Colombo' 'Nugegoda'\n",
      " 'Katunayaka' 'Islamabad' 'R?walpindi' 'Noorpur Shahan' 'Heritage Pines'\n",
      " 'Tanglewood' 'Waverly Place' 'Wayne Ridge' 'Northwoods'\n",
      " 'Depot Historic District' 'West University' 'Congress Ave District'\n",
      " 'Convention Center District' 'North Austin' 'The Drag' 'Coxville'\n",
      " 'South Congress' 'Katy' 'Alief' 'Sharpstown' 'Sugar Land' 'Galveston'\n",
      " 'Port Bolivar' 'Washington Avenue' 'Greater Greenspoint' 'Latta'\n",
      " 'Jacksonville' 'Kissimmee' 'Lake Reams' 'Orlando' 'Daytona Beach'\n",
      " 'Ridgeland' 'Florence' 'Cedar Hill' 'Holly Springs' 'Harden Place'\n",
      " 'Chessington' 'Burtrose' 'Parkway' 'Capitol One' 'University District'\n",
      " 'Redmond' 'Bellevue' 'Seattle' 'Mcvan' 'Palo Alto' 'Sunnyvale' 'Newark'\n",
      " 'Menlo Park' 'San Francisco' 'Preston' 'Parkway Museums' 'Hog Island'\n",
      " 'Savon Height' 'Kildaire Farms' 'Weston' 'Gramercy-Flatiron' 'Tudor City'\n",
      " 'Soho' 'Tribeca' 'Financial District' 'Kips Bay' 'Emeryville' 'Berkeley'\n",
      " 'Oakland' 'Bay Farm Island' 'New Orleans' 'Lower Garden District'\n",
      " 'Lakeview' 'Faubourg Marigny' 'Chalmette' 'Arabi' 'Metairie'\n",
      " 'Pontchartrain Shores' 'Kenner' 'Summerwinds' 'Parkwood' 'Banner Elk'\n",
      " 'Boone' 'Stonewater' 'Lexington Park at Amberly' 'Winston Salem'\n",
      " 'Asheville' 'Topton' 'Hayesville' 'Agnew' 'Potrero Flats' 'South'\n",
      " 'Southside' 'Mountain View' 'El Cerrito' 'Wake Co.' 'Fuquay-Varina'\n",
      " 'Rawalpindi' 'Lahore' 'Karachi' 'Gampaha' 'Ilukwatta']\n"
     ]
    }
   ],
   "source": [
    "#------------------------------------------------------------------------------------------------------------------------------#\n",
    "#     THE COMMANDS SHOWN BELOW WILL GIVE US THE UNIQUE STOP LOCATIONS FOR ORIGINAL AND UPDATED DATAFRAME WITH NO NA VALUES     #\n",
    "#------------------------------------------------------------------------------------------------------------------------------#\n",
    "\n",
    "print(\"\\033[1mTOTAL UNIQUE UBER STOP LOCATIONS FOR ORIGINAL DATAFRAME:\\033[0m\",'\\33[32m''\\033[1m',UberDriveData[\"STOP*\"].nunique(),'\\033[0m')\n",
    "print(\"\\033[1mTOTAL UNIQUE UBER STOP LOCATIONS FOR DATAFRAME WITH NO 'NA' VALUES:\\033[0m\",'\\33[32m''\\033[1m',df[\"STOP*\"].nunique(),'\\033[0m')\n",
    "\n",
    "#ADDITIONAL HELPFUL OUTPUT - PRINTING THE UNIQUE UBER STOP LOCATIONS FROM THE DATASET\n",
    "print(\" \")\n",
    "print(\"\\033[1m    UNIQUE UBER STOP LOCATIONS FROM ORIGINAL DATAFRAME:\\033[0m\")\n",
    "print(\" \")\n",
    "print(UberDriveData[\"STOP*\"].unique()) #UNIQUE UBER START LOCATIONS FROM ORIGINAL DATASET WITHOUT DROPPED LOCATIONS\n",
    "print(\" \")\n",
    "print(\"\\033[1m    UNIQUE UBER STOP LOCATIONS FROM DATAFRAME WITH NO 'NA' VALUES:\\033[0m\")\n",
    "print(\" \")\n",
    "print(df[\"STOP*\"].unique())  #UNIQUE UBER START LOCATIONS FROM DATAFRAME WITH NO 'NA' VALUES AND DROPPED LOCATIONS\n",
    "\n",
    "#==============================================================================================================================#\n",
    "# INFERENCE: A lot of stop locations (50) were dropped from the new dataframe due to NA values being present in other          # \n",
    "#            variables (PURPOSE*) for their representative rows.The total number of unique stop locations present in original  #\n",
    "#            dataframe is 187 while for the one without NA values is 137.(Rawalpindi and R?walpindi are considered as separate #\n",
    "#            locations here following the instructions given in the Project FAQ)                                               #\n",
    "#==============================================================================================================================#"
   ]
  },
  {
   "cell_type": "markdown",
   "metadata": {
    "id": "VmkTnPlt199H"
   },
   "source": [
    "## Q14. Display all Uber trips that has the starting point as San Francisco. (2 points)\n",
    "#### Note: Use the original dataframe without dropping the 'NA' values.\n"
   ]
  },
  {
   "cell_type": "code",
   "execution_count": 18,
   "metadata": {
    "colab": {
     "base_uri": "https://localhost:8080/",
     "height": 297
    },
    "id": "fwhKZQfs199I",
    "outputId": "949bc9c3-ed15-4299-95e4-c42980a2dfd6"
   },
   "outputs": [
    {
     "data": {
      "text/html": [
       "<div>\n",
       "<style scoped>\n",
       "    .dataframe tbody tr th:only-of-type {\n",
       "        vertical-align: middle;\n",
       "    }\n",
       "\n",
       "    .dataframe tbody tr th {\n",
       "        vertical-align: top;\n",
       "    }\n",
       "\n",
       "    .dataframe thead th {\n",
       "        text-align: right;\n",
       "    }\n",
       "</style>\n",
       "<table border=\"1\" class=\"dataframe\">\n",
       "  <thead>\n",
       "    <tr style=\"text-align: right;\">\n",
       "      <th></th>\n",
       "      <th>START_DATE*</th>\n",
       "      <th>END_DATE*</th>\n",
       "      <th>CATEGORY*</th>\n",
       "      <th>START*</th>\n",
       "      <th>STOP*</th>\n",
       "      <th>MILES*</th>\n",
       "      <th>PURPOSE*</th>\n",
       "    </tr>\n",
       "  </thead>\n",
       "  <tbody>\n",
       "    <tr>\n",
       "      <th>362</th>\n",
       "      <td>05-09-2016 14:39</td>\n",
       "      <td>05-09-2016 15:06</td>\n",
       "      <td>Business</td>\n",
       "      <td>San Francisco</td>\n",
       "      <td>Palo Alto</td>\n",
       "      <td>20.5</td>\n",
       "      <td>Between Offices</td>\n",
       "    </tr>\n",
       "    <tr>\n",
       "      <th>440</th>\n",
       "      <td>6/14/2016 16:09</td>\n",
       "      <td>6/14/2016 16:39</td>\n",
       "      <td>Business</td>\n",
       "      <td>San Francisco</td>\n",
       "      <td>Emeryville</td>\n",
       "      <td>11.6</td>\n",
       "      <td>Meeting</td>\n",
       "    </tr>\n",
       "    <tr>\n",
       "      <th>836</th>\n",
       "      <td>10/19/2016 14:02</td>\n",
       "      <td>10/19/2016 14:31</td>\n",
       "      <td>Business</td>\n",
       "      <td>San Francisco</td>\n",
       "      <td>Berkeley</td>\n",
       "      <td>10.8</td>\n",
       "      <td>NaN</td>\n",
       "    </tr>\n",
       "    <tr>\n",
       "      <th>917</th>\n",
       "      <td>11-07-2016 19:17</td>\n",
       "      <td>11-07-2016 19:57</td>\n",
       "      <td>Business</td>\n",
       "      <td>San Francisco</td>\n",
       "      <td>Berkeley</td>\n",
       "      <td>13.2</td>\n",
       "      <td>Between Offices</td>\n",
       "    </tr>\n",
       "    <tr>\n",
       "      <th>919</th>\n",
       "      <td>11-08-2016 12:16</td>\n",
       "      <td>11-08-2016 12:49</td>\n",
       "      <td>Business</td>\n",
       "      <td>San Francisco</td>\n",
       "      <td>Berkeley</td>\n",
       "      <td>11.3</td>\n",
       "      <td>Meeting</td>\n",
       "    </tr>\n",
       "    <tr>\n",
       "      <th>927</th>\n",
       "      <td>11-09-2016 18:40</td>\n",
       "      <td>11-09-2016 19:17</td>\n",
       "      <td>Business</td>\n",
       "      <td>San Francisco</td>\n",
       "      <td>Oakland</td>\n",
       "      <td>12.7</td>\n",
       "      <td>Customer Visit</td>\n",
       "    </tr>\n",
       "    <tr>\n",
       "      <th>933</th>\n",
       "      <td>11-10-2016 15:17</td>\n",
       "      <td>11-10-2016 15:22</td>\n",
       "      <td>Business</td>\n",
       "      <td>San Francisco</td>\n",
       "      <td>Oakland</td>\n",
       "      <td>9.9</td>\n",
       "      <td>Temporary Site</td>\n",
       "    </tr>\n",
       "    <tr>\n",
       "      <th>966</th>\n",
       "      <td>11/15/2016 20:44</td>\n",
       "      <td>11/15/2016 21:00</td>\n",
       "      <td>Business</td>\n",
       "      <td>San Francisco</td>\n",
       "      <td>Berkeley</td>\n",
       "      <td>11.8</td>\n",
       "      <td>Temporary Site</td>\n",
       "    </tr>\n",
       "  </tbody>\n",
       "</table>\n",
       "</div>"
      ],
      "text/plain": [
       "          START_DATE*         END_DATE* CATEGORY*         START*       STOP*  \\\n",
       "362  05-09-2016 14:39  05-09-2016 15:06  Business  San Francisco   Palo Alto   \n",
       "440   6/14/2016 16:09   6/14/2016 16:39  Business  San Francisco  Emeryville   \n",
       "836  10/19/2016 14:02  10/19/2016 14:31  Business  San Francisco    Berkeley   \n",
       "917  11-07-2016 19:17  11-07-2016 19:57  Business  San Francisco    Berkeley   \n",
       "919  11-08-2016 12:16  11-08-2016 12:49  Business  San Francisco    Berkeley   \n",
       "927  11-09-2016 18:40  11-09-2016 19:17  Business  San Francisco     Oakland   \n",
       "933  11-10-2016 15:17  11-10-2016 15:22  Business  San Francisco     Oakland   \n",
       "966  11/15/2016 20:44  11/15/2016 21:00  Business  San Francisco    Berkeley   \n",
       "\n",
       "     MILES*         PURPOSE*  \n",
       "362    20.5  Between Offices  \n",
       "440    11.6          Meeting  \n",
       "836    10.8              NaN  \n",
       "917    13.2  Between Offices  \n",
       "919    11.3          Meeting  \n",
       "927    12.7   Customer Visit  \n",
       "933     9.9   Temporary Site  \n",
       "966    11.8   Temporary Site  "
      ]
     },
     "execution_count": 18,
     "metadata": {},
     "output_type": "execute_result"
    }
   ],
   "source": [
    "#------------------------------------------------------------------------------------------------------------------------------#\n",
    "#                    THE COMMANDS SHOWN BELOW WILL DISPLAY ALL UBER TRIPS WITH START LOCATION AS SAN FRANCISCO                 #\n",
    "#------------------------------------------------------------------------------------------------------------------------------#\n",
    "\n",
    "UberDriveData[UberDriveData['START*'] == 'San Francisco']\n",
    "\n",
    "#==============================================================================================================================#\n",
    "# INFERENCE: Only 8 entries were present where the start location was marked as San Francisco and there is no specific favored #\n",
    "#            purpose amongst them. Amongst the 8 entries, 4 of the trips ended at Berkeley 2 at Oakland and one for both Palo  #\n",
    "#            Alto.                                                                                                             #\n",
    "#==============================================================================================================================#"
   ]
  },
  {
   "cell_type": "markdown",
   "metadata": {
    "id": "ZMsuzJcG199O"
   },
   "source": [
    "## Q15. What is the most popular starting point for the Uber drivers? (2 points)\n",
    "#### Note: Use the original dataframe without dropping the 'NA' values.\n",
    "\n",
    "#### Hint:Popular means the place that is visited the most"
   ]
  },
  {
   "cell_type": "code",
   "execution_count": 19,
   "metadata": {
    "colab": {
     "base_uri": "https://localhost:8080/"
    },
    "id": "a5QGyjza199P",
    "outputId": "e811a583-6780-4729-90ab-6f1e3a3e2716",
    "scrolled": true
   },
   "outputs": [
    {
     "name": "stdout",
     "output_type": "stream",
     "text": [
      "\u001b[1mUBER DRIVER'S STARTING POINTS SORTED BY OCCURENCE:\u001b[0m\n",
      "Cary                201\n",
      "Unknown Location    148\n",
      "Morrisville          85\n",
      "Whitebridge          68\n",
      "Islamabad            57\n",
      "Durham               37\n",
      "Lahore               36\n",
      "Karachi              31\n",
      "Raleigh              28\n",
      "Westpark Place       17\n",
      " \n",
      "\u001b[1mMOST POPULAR STARTING POINT FOR THE UBER DRIVERS:\u001b[0m\n",
      "Cary    201\n"
     ]
    }
   ],
   "source": [
    "#------------------------------------------------------------------------------------------------------------------------------#\n",
    "#                    THE COMMANDS SHOWN BELOW WILL DISPLAY THE MOST POPULAR STARTING POINT FOR UBER DRIVERS                    #\n",
    "#------------------------------------------------------------------------------------------------------------------------------#\n",
    "\n",
    "print(\"\\033[1mUBER DRIVER'S STARTING POINTS SORTED BY OCCURENCE:\\033[0m\")\n",
    "print(UberDriveData['START*'].value_counts().head(10).to_string())\n",
    "print(\" \")\n",
    "print(\"\\033[1mMOST POPULAR STARTING POINT FOR THE UBER DRIVERS:\\033[0m\")\n",
    "print(UberDriveData['START*'].value_counts().head(1).to_string())\n",
    "\n",
    "#==============================================================================================================================#\n",
    "#INFERENCE: Cary and Unknown Locations are the most recorded entries by the uber drivers, Cary seems to be the most famous     #\n",
    "#           location amongst customers. Also, Uber needs to provide a proper filing system to avoid entries marked as Unknown  #\n",
    "#           locations as after Cary this is the most occurring entry in START* variable. Morrisville is the second most famous #\n",
    "#           location if we are to ignore unknown location entries.                                                             #\n",
    "#==============================================================================================================================#"
   ]
  },
  {
   "cell_type": "markdown",
   "metadata": {
    "id": "S13-HiPG199T"
   },
   "source": [
    "## Q16. What is the most popular dropping point for the Uber drivers? (2 points)\n",
    "#### Note: Use the original dataframe without dropping the 'NA' values.\n",
    "\n",
    "#### Hint: Popular means the place that is visited the most"
   ]
  },
  {
   "cell_type": "code",
   "execution_count": 20,
   "metadata": {
    "colab": {
     "base_uri": "https://localhost:8080/"
    },
    "id": "YP-hwvNT199T",
    "outputId": "725bec1c-38bc-401f-f71d-dc23d22640cd"
   },
   "outputs": [
    {
     "name": "stdout",
     "output_type": "stream",
     "text": [
      "\u001b[1mUBER DRIVER'S DROPPING POINTS SORTED BY OCCURENCE:\u001b[0m\n",
      "Cary                203\n",
      "Unknown Location    149\n",
      "Morrisville          84\n",
      "Whitebridge          65\n",
      "Islamabad            58\n",
      "Durham               36\n",
      "Lahore               36\n",
      "Raleigh              29\n",
      "Karachi              28\n",
      "Apex                 17\n",
      " \n",
      "\u001b[1mMOST POPULAR DROPPING POINT FOR THE UBER DRIVERS:\u001b[0m\n",
      "Cary    203\n"
     ]
    }
   ],
   "source": [
    "#------------------------------------------------------------------------------------------------------------------------------#\n",
    "#                    THE COMMANDS SHOWN BELOW WILL DISPLAY THE MOST POPULAR DROPPING POINT FOR UBER DRIVERS                    #\n",
    "#------------------------------------------------------------------------------------------------------------------------------#\n",
    "\n",
    "print(\"\\033[1mUBER DRIVER'S DROPPING POINTS SORTED BY OCCURENCE:\\033[0m\")\n",
    "print(UberDriveData['STOP*'].value_counts().head(10).to_string())\n",
    "print(\" \")\n",
    "print(\"\\033[1mMOST POPULAR DROPPING POINT FOR THE UBER DRIVERS:\\033[0m\")\n",
    "print(UberDriveData['STOP*'].value_counts().head(1).to_string())\n",
    "\n",
    "#==============================================================================================================================#\n",
    "#INFERENCE: Cary and Unknown Locations are the most recorded entries by the uber drivers, Cary seems to be the most famous     #\n",
    "#           location amongst customers. Also, Uber needs to provide a proper filing system to avoid entries marked as Unknown  #\n",
    "#           locations as after Cary this is the most occuring entry in STOP* variable. Morrisville is the second most famous   #\n",
    "#           location if we are to ignore unknown location entries.                                                             #\n",
    "#==============================================================================================================================#"
   ]
  },
  {
   "cell_type": "markdown",
   "metadata": {
    "id": "6Iqizk7B199W"
   },
   "source": [
    "## Q17. What is the most frequent route taken by Uber drivers. (3 points)\n",
    "#### Note: This question is based on the new dataframe with no 'na' values.\n",
    "#### Hint-Print the most frequent route taken by Uber drivers (Route= combination of START & END points present in the Data set)."
   ]
  },
  {
   "cell_type": "code",
   "execution_count": 21,
   "metadata": {
    "colab": {
     "base_uri": "https://localhost:8080/"
    },
    "id": "f41v9gc4199X",
    "outputId": "80499077-8872-4f3f-a504-d648ad8ec910"
   },
   "outputs": [
    {
     "name": "stdout",
     "output_type": "stream",
     "text": [
      "\u001b[1m==============================================\u001b[0m\n",
      "\u001b[1mFOR DATAFRAME WITH NO NA VALUES\u001b[0m\n",
      "\u001b[1m==============================================\u001b[0m\n",
      " \n",
      "\u001b[1mTOP 2 MOST FREQUENT ROUTES TAKEN BY UBER DRIVERS BASED ON MILES:\u001b[0m\n",
      "START*            STOP*           \n",
      "Unknown Location  Unknown Location    334.0\n",
      "Cary              Durham              312.3\n",
      " \n",
      "\u001b[1mTOP 2 MOST FREQUENT ROUTES TAKEN BY UBER DRIVERS BASED ON ROUTE OCCURENCE COUNT:\u001b[0m\n",
      "START*       STOP*      \n",
      "Cary         Morrisville    52\n",
      "Morrisville  Cary           51\n",
      " \n",
      "\u001b[1m==============================================\u001b[0m\n",
      "\u001b[1mFOR ORIGINAL DATAFRAME\u001b[0m\n",
      "\u001b[1m==============================================\u001b[0m\n",
      " \n",
      "\u001b[1mTOP 2 MOST FREQUENT ROUTES TAKEN BY UBER DRIVERS BASED ON MILES:\u001b[0m\n",
      "START*            STOP*           \n",
      "Unknown Location  Unknown Location    1360.8\n",
      "Morrisville       Cary                 395.7\n",
      " \n",
      "\u001b[1mTOP 2 MOST FREQUENT ROUTES TAKEN BY UBER DRIVERS BASED ON ROUTE OCCURENCE COUNT:\u001b[0m\n",
      "START*            STOP*           \n",
      "Unknown Location  Unknown Location    86\n",
      "Morrisville       Cary                75\n"
     ]
    }
   ],
   "source": [
    "#------------------------------------------------------------------------------------------------------------------------------#\n",
    "#                      THE COMMANDS SHOWN BELOW WILL DISPLAY THE MOST FREQUENT ROUTE TAKEN BY UBER DRIVERS                     #\n",
    "#------------------------------------------------------------------------------------------------------------------------------#\n",
    "\n",
    "print(\"\\033[1m==============================================\\033[0m\")\n",
    "print(\"\\033[1mFOR DATAFRAME WITH NO NA VALUES\\033[0m\")\n",
    "print(\"\\033[1m==============================================\\033[0m\")\n",
    "print(\" \")\n",
    "print(\"\\033[1mTOP 2 MOST FREQUENT ROUTES TAKEN BY UBER DRIVERS BASED ON MILES:\\033[0m\")\n",
    "print(df.groupby(['START*','STOP*'])['MILES*'].sum().sort_values(ascending=False).head(2).to_string())\n",
    "print(\" \")\n",
    "print(\"\\033[1mTOP 2 MOST FREQUENT ROUTES TAKEN BY UBER DRIVERS BASED ON ROUTE OCCURENCE COUNT:\\033[0m\")\n",
    "print(df.groupby(['START*', 'STOP*']).size().sort_values(ascending=False).head(2).to_string())\n",
    "print(\" \")\n",
    "#ADDITIONAL WORK#\n",
    "print(\"\\033[1m==============================================\\033[0m\")\n",
    "print(\"\\033[1mFOR ORIGINAL DATAFRAME\\033[0m\")\n",
    "print(\"\\033[1m==============================================\\033[0m\")\n",
    "print(\" \")\n",
    "print(\"\\033[1mTOP 2 MOST FREQUENT ROUTES TAKEN BY UBER DRIVERS BASED ON MILES:\\033[0m\")\n",
    "print(UberDriveData.groupby(['START*','STOP*'])['MILES*'].sum().sort_values(ascending=False).head(2).to_string())\n",
    "print(\" \")\n",
    "print(\"\\033[1mTOP 2 MOST FREQUENT ROUTES TAKEN BY UBER DRIVERS BASED ON ROUTE OCCURENCE COUNT:\\033[0m\")\n",
    "print(UberDriveData.groupby(['START*', 'STOP*']).size().sort_values(ascending=False).head(2).to_string())\n",
    "\n",
    "#==============================================================================================================================#\n",
    "# INFERENCE:The most frequent route will be the one with the highest summed miles (or total route occurrences) associated with #\n",
    "#           it which is logical since the most travelled route will cover more miles (has more occurrence frequency) in        #\n",
    "#           comparison to others.CARY to DURHAM or CARY TO MORRISVILLE (or the opposite route) shows the most miles covered    #\n",
    "#           and most route occurrences for the dataset hence we can consider the same as the most frequent/popular route       #\n",
    "#           travelled by Uber drivers. We can ignore unknown location-based entries as we cannot infer anything about the      #\n",
    "#           route taken from their respective trip records.                                                                    #\n",
    "#==============================================================================================================================#"
   ]
  },
  {
   "cell_type": "markdown",
   "metadata": {
    "id": "oBrYyZ-L199Z"
   },
   "source": [
    "## Q18. Display all types of purposes for the trip in an array. (2 points)\n",
    "#### Note: This question is based on the new dataframe with no 'NA' values."
   ]
  },
  {
   "cell_type": "code",
   "execution_count": 22,
   "metadata": {
    "colab": {
     "base_uri": "https://localhost:8080/"
    },
    "id": "p3fe_lTe199a",
    "outputId": "42c0d950-2141-4e13-9684-27b3c4dda5b2"
   },
   "outputs": [
    {
     "name": "stdout",
     "output_type": "stream",
     "text": [
      "\u001b[1mTYPES OF PURPOSES FOR UBER TRIPS ARRANGED IN A 5X2 ARRAY:\u001b[0m\n",
      "[['Meal/Entertain' 'Errand/Supplies']\n",
      " ['Meeting' 'Customer Visit']\n",
      " ['Temporary Site' 'Between Offices']\n",
      " ['Charity ($)' 'Commute']\n",
      " ['Moving' 'Airport/Travel']]\n",
      " \n",
      "\u001b[1mTYPES OF PURPOSES FOR UBER TRIPS SORTED BY MILES:\u001b[0m\n",
      " \n",
      "PURPOSE*\n",
      "Meeting            2851.3\n",
      "Customer Visit     2089.5\n",
      "Meal/Entertain      911.7\n",
      "Temporary Site      523.7\n",
      "Errand/Supplies     508.0\n",
      "Between Offices     197.0\n",
      "Commute             180.2\n",
      "Moving               18.2\n",
      "Airport/Travel       16.5\n",
      "Charity ($)          15.1\n",
      " \n",
      "\u001b[1mTYPES OF PURPOSES FOR UBER TRIPS SORTED BY COUNT:\u001b[0m\n",
      " \n",
      "Meeting            187\n",
      "Meal/Entertain     160\n",
      "Errand/Supplies    128\n",
      "Customer Visit     101\n",
      "Temporary Site      50\n",
      "Between Offices     18\n",
      "Moving               4\n",
      "Airport/Travel       3\n",
      "Commute              1\n",
      "Charity ($)          1\n"
     ]
    }
   ],
   "source": [
    "#------------------------------------------------------------------------------------------------------------------------------#\n",
    "#                   THE COMMANDS SHOWN BELOW WILL DISPLAY THE TYPES OF PURPOSES FOR THE UBER TRIPS IN THE DATA                 #\n",
    "#------------------------------------------------------------------------------------------------------------------------------#\n",
    "\n",
    "print(\"\\033[1mTYPES OF PURPOSES FOR UBER TRIPS ARRANGED IN A 5X2 ARRAY:\\033[0m\")\n",
    "#5X2 or 2x5 are the only feasible arrays that can be made, picked 5x2 for better presentations#\n",
    "print((np.array(df['PURPOSE*'].unique()).reshape(5,2)))\n",
    "print(\" \")\n",
    "print(\"\\033[1mTYPES OF PURPOSES FOR UBER TRIPS SORTED BY MILES:\\033[0m\")\n",
    "print(\" \")\n",
    "print(df['MILES*'].groupby(df['PURPOSE*']).sum().sort_values(ascending=False).to_string())\n",
    "print(\" \")\n",
    "print(\"\\033[1mTYPES OF PURPOSES FOR UBER TRIPS SORTED BY COUNT:\\033[0m\")\n",
    "print(\" \")\n",
    "print(df['PURPOSE*'].value_counts().to_string())\n",
    "\n",
    "#==============================================================================================================================#\n",
    "# INFERENCE:There are 10 different types of purposes behind uber trips amongst which, Meeting & Customer Visit had the highest #\n",
    "#           miles covered followed by Meal/Entertain while for purpose occurrence count Meeting, Meal/Entertain,Errand/Supplies#\n",
    "#           the most frequently occurring ones hence we can say that most of the Uber trips done were booked by customers      #\n",
    "#           were for work related purposes or business meetings.                                                               #\n",
    "#==============================================================================================================================#"
   ]
  },
  {
   "cell_type": "markdown",
   "metadata": {
    "id": "WBN9Ufxc199d"
   },
   "source": [
    "## Q19. Plot a bar graph of Purpose vs Miles(Distance). What can you infer from the plot(2 +2 points)\n",
    "#### Note: Use the original dataframe without dropping the 'NA' values.\n",
    "#### Hint:You have to plot total/sum miles per purpose"
   ]
  },
  {
   "cell_type": "code",
   "execution_count": 23,
   "metadata": {
    "colab": {
     "base_uri": "https://localhost:8080/",
     "height": 351
    },
    "id": "JaNSQ_qSa-Rg",
    "outputId": "4314b7a0-0f56-441d-ee93-e9c723e75115"
   },
   "outputs": [
    {
     "data": {
      "text/plain": [
       "<matplotlib.axes._subplots.AxesSubplot at 0x198519ca490>"
      ]
     },
     "execution_count": 23,
     "metadata": {},
     "output_type": "execute_result"
    },
    {
     "data": {
      "text/plain": [
       "(array([0, 1, 2, 3, 4, 5, 6, 7, 8, 9]),\n",
       " <a list of 10 Text major ticklabel objects>)"
      ]
     },
     "execution_count": 23,
     "metadata": {},
     "output_type": "execute_result"
    },
    {
     "data": {
      "image/png": "[encoded data removed]",
      "text/plain": [
       "<Figure size 432x288 with 1 Axes>"
      ]
     },
     "metadata": {
      "needs_background": "light"
     },
     "output_type": "display_data"
    }
   ],
   "source": [
    "#------------------------------------------------------------------------------------------------------------------------------#\n",
    "#                  THE COMMANDS SHOWN BELOW WILL DISPLAY THE PLOT BETWEEN PURPOSE & MILES(DISTANCE TRAVELLED)                  #\n",
    "#------------------------------------------------------------------------------------------------------------------------------#\n",
    "\n",
    "Distance = UberDriveData.groupby('PURPOSE*').sum()['MILES*'].sort_values(ascending = False).head(10) \n",
    "Distance = Distance.reset_index()\n",
    "Distance.columns = ['PURPOSE*' ,'DISTANCE (Miles_Covered_Per_Purpose)'] #Where Distance signifies total/sum miles per purpose\n",
    "#Displays plot output in Jupyter\n",
    "%matplotlib inline\n",
    "sns.barplot(data= Distance , x= 'PURPOSE*' , y ='DISTANCE (Miles_Covered_Per_Purpose)')\n",
    "plt.xticks(rotation=90)\n",
    "\n",
    "#==============================================================================================================================#\n",
    "# INFERENCE:The bar graph shows 10 different types of purposes behind uber trips amongst which, Meeting & Customer Visit had   #\n",
    "#           the highest miles covered followed by Meal/Entertain and Temporary Visit. Hence, we can say that majority of the   #\n",
    "#           Uber trips done were booked by customers for work related purposes or business meetings.                           #\n",
    "#==============================================================================================================================#"
   ]
  },
  {
   "cell_type": "markdown",
   "metadata": {
    "id": "b7-pD446199j"
   },
   "source": [
    "## Q20. Display a dataframe of Purpose and the total distance travelled for that particular Purpose. (3 points)\n",
    "#### Note: Use the original dataframe without dropping \"NA\" values"
   ]
  },
  {
   "cell_type": "code",
   "execution_count": 24,
   "metadata": {
    "colab": {
     "base_uri": "https://localhost:8080/",
     "height": 390
    },
    "id": "Em4d7Ng9199k",
    "outputId": "abe48585-adf0-4848-bc0e-7023e883f12c"
   },
   "outputs": [
    {
     "name": "stdout",
     "output_type": "stream",
     "text": [
      "\u001b[1mTYPES OF PURPOSES FOR UBER TRIPS SORTED BY TOTAL DISTANCE TRAVELLED:\u001b[0m\n",
      " \n",
      "PURPOSE*\n",
      "Meeting            2851.3\n",
      "Customer Visit     2089.5\n",
      "Meal/Entertain      911.7\n",
      "Temporary Site      523.7\n",
      "Errand/Supplies     508.0\n",
      "Between Offices     197.0\n",
      "Commute             180.2\n",
      "Moving               18.2\n",
      "Airport/Travel       16.5\n",
      "Charity ($)          15.1\n"
     ]
    }
   ],
   "source": [
    "#------------------------------------------------------------------------------------------------------------------------------#\n",
    "#         THE COMMANDS SHOWN BELOW WILL DISPLAY THE DATA SORTED BY PURPOSE WIH THEIR RESPECTIVE TOTAL DISTANCE COVERED         #\n",
    "#------------------------------------------------------------------------------------------------------------------------------#\n",
    "\n",
    "print(\"\\033[1mTYPES OF PURPOSES FOR UBER TRIPS SORTED BY TOTAL DISTANCE TRAVELLED:\\033[0m\")\n",
    "print(\" \")\n",
    "print(UberDriveData.groupby('PURPOSE*').sum()['MILES*'].sort_values(ascending = False).to_string())\n",
    "\n",
    "#==============================================================================================================================#\n",
    "# INFERENCE:There are 10 different types of purposes behind uber trips amongst which, Meeting & Customer Visit had the highest #\n",
    "#           distance travelled followed by Meal/Entertain and Temporary Visit. Hence, we can say that majority of the Uber     #\n",
    "#           trips done were booked by customers for work related purposes or business meetings.                                #\n",
    "#==============================================================================================================================#"
   ]
  },
  {
   "cell_type": "markdown",
   "metadata": {
    "id": "CIZBaeSt199o"
   },
   "source": [
    "## Q21. Generate a plot showing count of trips vs category of trips. What can you infer from the plot (2 +1 points)\n",
    "#### Note: Use the original dataframe without dropping the 'NA' values."
   ]
  },
  {
   "cell_type": "code",
   "execution_count": 25,
   "metadata": {
    "colab": {
     "base_uri": "https://localhost:8080/"
    },
    "id": "fRuxSI0W199p",
    "outputId": "adc11110-b792-40e9-e875-f5e0479037ee"
   },
   "outputs": [
    {
     "name": "stdout",
     "output_type": "stream",
     "text": [
      "\u001b[1mTOTAL NUMBER OF UBER TRIPS GROUPED BY TRIP CATEGORY:\u001b[0m\n",
      "\u001b[32m\u001b[1m  \n",
      "Business    1078\n",
      "Personal      77 \u001b[0m\n"
     ]
    },
    {
     "name": "stderr",
     "output_type": "stream",
     "text": [
      "C:\\Users\\shital\\anaconda3\\lib\\site-packages\\seaborn\\_decorators.py:36: FutureWarning: Pass the following variable as a keyword arg: x. From version 0.12, the only valid positional argument will be `data`, and passing other arguments without an explicit keyword will result in an error or misinterpretation.\n",
      "  warnings.warn(\n"
     ]
    },
    {
     "data": {
      "text/plain": [
       "<matplotlib.axes._subplots.AxesSubplot at 0x1985215cd60>"
      ]
     },
     "execution_count": 25,
     "metadata": {},
     "output_type": "execute_result"
    },
    {
     "data": {
      "image/png": "[encoded data removed]",
      "text/plain": [
       "<Figure size 432x288 with 1 Axes>"
      ]
     },
     "metadata": {
      "needs_background": "light"
     },
     "output_type": "display_data"
    }
   ],
   "source": [
    "#------------------------------------------------------------------------------------------------------------------------------#\n",
    "#          THE COMMANDS SHOWN BELOW WILL DISPLAY THE DATA SORTED BY CATEGORY WIH THEIR RESPECTIVE TOTAL TRIP COUNTS            #\n",
    "#------------------------------------------------------------------------------------------------------------------------------#\n",
    "\n",
    "print(\"\\033[1mTOTAL NUMBER OF UBER TRIPS GROUPED BY TRIP CATEGORY:\\033[0m\")\n",
    "print('\\33[32m''\\033[1m',\" \")\n",
    "print(UberDriveData['CATEGORY*'].value_counts().to_string(),'\\033[0m')\n",
    "sns.countplot(UberDriveData['CATEGORY*'])\n",
    "\n",
    "#==============================================================================================================================#\n",
    "# INFERENCE:There are 2 different types of categories behind uber trips amongst which, Business(1078) had the highest count of #\n",
    "#           trips followed by Personal Category(77). Hence, we can say that majority of the Uber trips done were booked by     #\n",
    "#           customers for work related purposes or business meetings/category.                                                 #\n",
    "#==============================================================================================================================#"
   ]
  },
  {
   "cell_type": "markdown",
   "metadata": {
    "id": "VgzSzOt9199t"
   },
   "source": [
    "## Q22. What percentage of Miles were clocked under Business Category and what percentage of Miles were clocked under Personal Category ? (3 points)\n",
    "\n",
    "### Note:Use the original dataframe without dropping the 'NA' values. \n"
   ]
  },
  {
   "cell_type": "code",
   "execution_count": 26,
   "metadata": {
    "colab": {
     "base_uri": "https://localhost:8080/",
     "height": 142
    },
    "id": "K6ExiAiI199u",
    "outputId": "10af8841-c69f-40a1-a97f-5385f54d463e"
   },
   "outputs": [
    {
     "name": "stdout",
     "output_type": "stream",
     "text": [
      "\u001b[1mTOTAL MILES CLOCKED FOR UBER TRIPS UNDER DIFFERENT TRIP CATEGORIES:\u001b[0m\n"
     ]
    },
    {
     "data": {
      "text/html": [
       "<div>\n",
       "<style scoped>\n",
       "    .dataframe tbody tr th:only-of-type {\n",
       "        vertical-align: middle;\n",
       "    }\n",
       "\n",
       "    .dataframe tbody tr th {\n",
       "        vertical-align: top;\n",
       "    }\n",
       "\n",
       "    .dataframe thead th {\n",
       "        text-align: right;\n",
       "    }\n",
       "</style>\n",
       "<table border=\"1\" class=\"dataframe\">\n",
       "  <thead>\n",
       "    <tr style=\"text-align: right;\">\n",
       "      <th></th>\n",
       "      <th>MILES*</th>\n",
       "    </tr>\n",
       "    <tr>\n",
       "      <th>CATEGORY*</th>\n",
       "      <th></th>\n",
       "    </tr>\n",
       "  </thead>\n",
       "  <tbody>\n",
       "    <tr>\n",
       "      <th>Business</th>\n",
       "      <td>11487.0</td>\n",
       "    </tr>\n",
       "    <tr>\n",
       "      <th>Personal</th>\n",
       "      <td>717.7</td>\n",
       "    </tr>\n",
       "  </tbody>\n",
       "</table>\n",
       "</div>"
      ],
      "text/plain": [
       "            MILES*\n",
       "CATEGORY*         \n",
       "Business   11487.0\n",
       "Personal     717.7"
      ]
     },
     "execution_count": 26,
     "metadata": {},
     "output_type": "execute_result"
    },
    {
     "name": "stdout",
     "output_type": "stream",
     "text": [
      "\u001b[1m PERCENTAGE OF MILES CLOCKED FOR UBER TRIPS UNDER DIFFERENT TRIP CATEGORIES:\u001b[0m\n"
     ]
    },
    {
     "data": {
      "text/html": [
       "<div>\n",
       "<style scoped>\n",
       "    .dataframe tbody tr th:only-of-type {\n",
       "        vertical-align: middle;\n",
       "    }\n",
       "\n",
       "    .dataframe tbody tr th {\n",
       "        vertical-align: top;\n",
       "    }\n",
       "\n",
       "    .dataframe thead th {\n",
       "        text-align: right;\n",
       "    }\n",
       "</style>\n",
       "<table border=\"1\" class=\"dataframe\">\n",
       "  <thead>\n",
       "    <tr style=\"text-align: right;\">\n",
       "      <th></th>\n",
       "      <th>MILES*</th>\n",
       "    </tr>\n",
       "    <tr>\n",
       "      <th>CATEGORY*</th>\n",
       "      <th></th>\n",
       "    </tr>\n",
       "  </thead>\n",
       "  <tbody>\n",
       "    <tr>\n",
       "      <th>Business</th>\n",
       "      <td>94.119479</td>\n",
       "    </tr>\n",
       "    <tr>\n",
       "      <th>Personal</th>\n",
       "      <td>5.880521</td>\n",
       "    </tr>\n",
       "  </tbody>\n",
       "</table>\n",
       "</div>"
      ],
      "text/plain": [
       "              MILES*\n",
       "CATEGORY*           \n",
       "Business   94.119479\n",
       "Personal    5.880521"
      ]
     },
     "execution_count": 26,
     "metadata": {},
     "output_type": "execute_result"
    }
   ],
   "source": [
    "#------------------------------------------------------------------------------------------------------------------------------#\n",
    "#          THE COMMANDS SHOWN BELOW WILL DISPLAY THE DATA SORTED BY CATEGORY WIH THEIR RESPECTIVE TOTAL TRIP COUNTS            #\n",
    "#------------------------------------------------------------------------------------------------------------------------------#\n",
    "\n",
    "print(\"\\033[1mTOTAL MILES CLOCKED FOR UBER TRIPS UNDER DIFFERENT TRIP CATEGORIES:\\033[0m\")\n",
    "MilesPerCategory = UberDriveData.groupby('CATEGORY*').agg({'MILES*':'sum'})\n",
    "MilesPerCategory\n",
    "print(\"\\033[1m PERCENTAGE OF MILES CLOCKED FOR UBER TRIPS UNDER DIFFERENT TRIP CATEGORIES:\\033[0m\")\n",
    "MilesPerCategory.apply(lambda x: x/x.sum()*100).rename(columns = {'MILES':'% of Miles'})\n",
    "\n",
    "#==============================================================================================================================#\n",
    "# INFERENCE:There are 2 different types of categories behind uber trips amongst which, Business (94.1%) had the highest        #\n",
    "#           percentage clocked for total miles covered in Uber Trips followed by a meagre 5.9% miles coverage clocked under    #\n",
    "#           Personal Category.Hence,we can say that majority of the Uber trips done were booked by customers for work related  #\n",
    "#           purposes or business meetings/category.                                                                            #\n",
    "#==============================================================================================================================#"
   ]
  },
  {
   "cell_type": "code",
   "execution_count": 27,
   "metadata": {},
   "outputs": [],
   "source": [
    "#------------------------------------------------------------------------------------------------------------------------------#\n",
    "#                                              END OF THE ANALYSIS                                                             #\n",
    "#------------------------------------------------------------------------------------------------------------------------------#\n",
    "#                                                END OF THE CODE                                                               #\n",
    "#------------------------------------------------------------------------------------------------------------------------------#"
   ]
  },
  {
   "cell_type": "markdown",
   "metadata": {
    "id": "_kYn6PGTUntA"
   },
   "source": [
    "***THE END***"
   ]
  }
 ],
 "metadata": {
  "colab": {
   "collapsed_sections": [],
   "name": "PDS_UberDriveProject_Solution1.ipynb",
   "provenance": []
  },
  "kernelspec": {
   "display_name": "Python 3",
   "language": "python",
   "name": "python3"
  },
  "language_info": {
   "codemirror_mode": {
    "name": "ipython",
    "version": 3
   },
   "file_extension": ".py",
   "mimetype": "text/x-python",
   "name": "python",
   "nbconvert_exporter": "python",
   "pygments_lexer": "ipython3",
   "version": "3.8.3"
  },
  "toc": {
   "base_numbering": 1,
   "nav_menu": {},
   "number_sections": true,
   "sideBar": true,
   "skip_h1_title": false,
   "title_cell": "Table of Contents",
   "title_sidebar": "Contents",
   "toc_cell": false,
   "toc_position": {},
   "toc_section_display": true,
   "toc_window_display": false
  },
  "varInspector": {
   "cols": {
    "lenName": 16,
    "lenType": 16,
    "lenVar": 40
   },
   "kernels_config": {
    "python": {
     "delete_cmd_postfix": "",
     "delete_cmd_prefix": "del ",
     "library": "var_list.py",
     "varRefreshCmd": "print(var_dic_list())"
    },
    "r": {
     "delete_cmd_postfix": ") ",
     "delete_cmd_prefix": "rm(",
     "library": "var_list.r",
     "varRefreshCmd": "cat(var_dic_list()) "
    }
   },
   "types_to_exclude": [
    "module",
    "function",
    "builtin_function_or_method",
    "instance",
    "_Feature"
   ],
   "window_display": false
  }
 },
 "nbformat": 4,
 "nbformat_minor": 1
}
